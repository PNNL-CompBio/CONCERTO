{
 "cells": [
  {
   "cell_type": "code",
   "execution_count": 1,
   "metadata": {
    "pycharm": {
     "name": "#%%\n"
    }
   },
   "outputs": [],
   "source": [
    "import pandas as pd\n",
    "import re\n",
    "import os\n",
    "import numpy as np"
   ]
  },
  {
   "cell_type": "code",
   "execution_count": null,
   "metadata": {
    "pycharm": {
     "name": "#%%\n"
    }
   },
   "outputs": [],
   "source": [
    "from models import syn\n",
    "exchanges = set(i.id for i in syn.exchanges)\n",
    "genes = sorted([i.id for i in syn.genes])"
   ]
  },
  {
   "cell_type": "code",
   "execution_count": 81,
   "metadata": {
    "pycharm": {
     "name": "#%%\n"
    }
   },
   "outputs": [
    {
     "name": "stdout",
     "output_type": "stream",
     "text": [
      "Synpcc7942_2454\n",
      "Synpcc7942_0034\n",
      "Synpcc7942_0413\n",
      "Synpcc7942_1971\n",
      "Synpcc7942_2107\n",
      "Synpcc7942_2010\n",
      "Synpcc7942_1478\n",
      "Synpcc7942_0491\n",
      "Synpcc7942_0668\n"
     ]
    }
   ],
   "source": [
    "old_to_new = dict()\n",
    "for i in syn.genes:\n",
    "#     print(i.annotation['refseq_old_locus_tag'])\n",
    "    if 'refseq_old_locus_tag' in i.annotation:\n",
    "        old_to_new[i.annotation['refseq_old_locus_tag']] = i.id\n",
    "    else:\n",
    "        old_to_new[i.id] = i.id\n",
    "        print(i.id)"
   ]
  },
  {
   "cell_type": "code",
   "execution_count": 83,
   "metadata": {
    "pycharm": {
     "name": "#%%\n"
    }
   },
   "outputs": [
    {
     "data": {
      "text/plain": [
       "['SYNPCC7942_RS00005',\n",
       " 'SYNPCC7942_RS00015',\n",
       " 'SYNPCC7942_RS00020',\n",
       " 'SYNPCC7942_RS00045',\n",
       " 'SYNPCC7942_RS00090']"
      ]
     },
     "execution_count": 83,
     "metadata": {},
     "output_type": "execute_result"
    }
   ],
   "source": [
    "genes[:5]"
   ]
  },
  {
   "cell_type": "code",
   "execution_count": 84,
   "metadata": {},
   "outputs": [
    {
     "name": "stderr",
     "output_type": "stream",
     "text": [
      "C:\\Users\\pino216\\Miniconda3\\envs\\whole-cell-gemm\\lib\\site-packages\\openpyxl\\worksheet\\_reader.py:312: UserWarning: Unknown extension is not supported and will be removed\n",
      "  warn(msg)\n"
     ]
    }
   ],
   "source": [
    "ge_data = pd.read_excel(\n",
    "    'data_ge_syn/pnas.1613446113.sd03_GENE_ESSENTIALITY.xlsx',\n",
    "    skiprows=11,\n",
    "    sheet_name='Full essentiality list'\n",
    ")"
   ]
  },
  {
   "cell_type": "code",
   "execution_count": 100,
   "metadata": {},
   "outputs": [],
   "source": [
    "important_data = ge_data[['Gene ID', 'RB-TnSeq essentiality']].copy()\n",
    "important_data['gene'] = important_data['Gene ID']\n",
    "important_data['essential'] = important_data['RB-TnSeq essentiality']\n",
    "del important_data['RB-TnSeq essentiality']\n",
    "del important_data['Gene ID']\n",
    "important_data.head()\n",
    "important_data['gene'] = important_data['gene'].map(old_to_new)\n",
    "important_data.dropna(subset=['gene'], inplace=True)"
   ]
  },
  {
   "cell_type": "code",
   "execution_count": 101,
   "metadata": {},
   "outputs": [],
   "source": [
    "# important_data['gene'] = important_data.gene.str.replace('Synpcc7942_', 'SYNPCC_')"
   ]
  },
  {
   "cell_type": "code",
   "execution_count": 102,
   "metadata": {},
   "outputs": [
    {
     "data": {
      "text/plain": [
       "0      SYNPCC7942_RS00005\n",
       "1      SYNPCC7942_RS00015\n",
       "2      SYNPCC7942_RS00020\n",
       "3      SYNPCC7942_RS00045\n",
       "4      SYNPCC7942_RS00090\n",
       "              ...        \n",
       "780    SYNPCC7942_RS13310\n",
       "781    SYNPCC7942_RS13425\n",
       "782    SYNPCC7942_RS13430\n",
       "783    SYNPCC7942_RS13375\n",
       "784    SYNPCC7942_RS13380\n",
       "Name: gene, Length: 785, dtype: object"
      ]
     },
     "execution_count": 102,
     "metadata": {},
     "output_type": "execute_result"
    }
   ],
   "source": [
    "important_data['gene']"
   ]
  },
  {
   "cell_type": "code",
   "execution_count": null,
   "metadata": {},
   "outputs": [],
   "source": []
  },
  {
   "cell_type": "code",
   "execution_count": 103,
   "metadata": {},
   "outputs": [],
   "source": [
    "data_genes = sorted(important_data['gene'].values)"
   ]
  },
  {
   "cell_type": "code",
   "execution_count": 104,
   "metadata": {},
   "outputs": [
    {
     "data": {
      "text/plain": [
       "['Synpcc7942_1478',\n",
       " 'Synpcc7942_1971',\n",
       " 'Synpcc7942_2010',\n",
       " 'Synpcc7942_2107',\n",
       " 'Synpcc7942_2454']"
      ]
     },
     "execution_count": 104,
     "metadata": {},
     "output_type": "execute_result"
    }
   ],
   "source": [
    "data_genes[-5:]"
   ]
  },
  {
   "cell_type": "code",
   "execution_count": 105,
   "metadata": {},
   "outputs": [
    {
     "name": "stdout",
     "output_type": "stream",
     "text": [
      "785\n",
      "0\n",
      "0\n"
     ]
    }
   ],
   "source": [
    "print(len(set(data_genes).intersection(genes)))\n",
    "print(len(set(data_genes).difference(genes)))\n",
    "print(len(set(genes).difference(data_genes)))"
   ]
  },
  {
   "cell_type": "code",
   "execution_count": 106,
   "metadata": {},
   "outputs": [
    {
     "data": {
      "text/plain": [
       "set()"
      ]
     },
     "execution_count": 106,
     "metadata": {},
     "output_type": "execute_result"
    }
   ],
   "source": [
    "set(genes).difference(data_genes)"
   ]
  },
  {
   "cell_type": "code",
   "execution_count": null,
   "metadata": {},
   "outputs": [],
   "source": []
  },
  {
   "cell_type": "code",
   "execution_count": null,
   "metadata": {},
   "outputs": [],
   "source": [
    "important_data['gene'][important_data['gene'].isin(genes)]"
   ]
  },
  {
   "cell_type": "code",
   "execution_count": 108,
   "metadata": {},
   "outputs": [
    {
     "data": {
      "text/html": [
       "<div>\n",
       "<style scoped>\n",
       "    .dataframe tbody tr th:only-of-type {\n",
       "        vertical-align: middle;\n",
       "    }\n",
       "\n",
       "    .dataframe tbody tr th {\n",
       "        vertical-align: top;\n",
       "    }\n",
       "\n",
       "    .dataframe thead th {\n",
       "        text-align: right;\n",
       "    }\n",
       "</style>\n",
       "<table border=\"1\" class=\"dataframe\">\n",
       "  <thead>\n",
       "    <tr style=\"text-align: right;\">\n",
       "      <th></th>\n",
       "      <th>gene</th>\n",
       "      <th>essential</th>\n",
       "    </tr>\n",
       "  </thead>\n",
       "  <tbody>\n",
       "    <tr>\n",
       "      <th>0</th>\n",
       "      <td>SYNPCC7942_RS00005</td>\n",
       "      <td>non-essential</td>\n",
       "    </tr>\n",
       "    <tr>\n",
       "      <th>1</th>\n",
       "      <td>SYNPCC7942_RS00015</td>\n",
       "      <td>ambiguous</td>\n",
       "    </tr>\n",
       "    <tr>\n",
       "      <th>2</th>\n",
       "      <td>SYNPCC7942_RS00020</td>\n",
       "      <td>essential</td>\n",
       "    </tr>\n",
       "    <tr>\n",
       "      <th>3</th>\n",
       "      <td>SYNPCC7942_RS00045</td>\n",
       "      <td>essential</td>\n",
       "    </tr>\n",
       "    <tr>\n",
       "      <th>4</th>\n",
       "      <td>SYNPCC7942_RS00090</td>\n",
       "      <td>beneficial</td>\n",
       "    </tr>\n",
       "    <tr>\n",
       "      <th>...</th>\n",
       "      <td>...</td>\n",
       "      <td>...</td>\n",
       "    </tr>\n",
       "    <tr>\n",
       "      <th>780</th>\n",
       "      <td>SYNPCC7942_RS13310</td>\n",
       "      <td>non-essential</td>\n",
       "    </tr>\n",
       "    <tr>\n",
       "      <th>781</th>\n",
       "      <td>SYNPCC7942_RS13425</td>\n",
       "      <td>non-essential</td>\n",
       "    </tr>\n",
       "    <tr>\n",
       "      <th>782</th>\n",
       "      <td>SYNPCC7942_RS13430</td>\n",
       "      <td>non-essential</td>\n",
       "    </tr>\n",
       "    <tr>\n",
       "      <th>783</th>\n",
       "      <td>SYNPCC7942_RS13375</td>\n",
       "      <td>non-essential</td>\n",
       "    </tr>\n",
       "    <tr>\n",
       "      <th>784</th>\n",
       "      <td>SYNPCC7942_RS13380</td>\n",
       "      <td>non-essential</td>\n",
       "    </tr>\n",
       "  </tbody>\n",
       "</table>\n",
       "<p>785 rows × 2 columns</p>\n",
       "</div>"
      ],
      "text/plain": [
       "                   gene      essential\n",
       "0    SYNPCC7942_RS00005  non-essential\n",
       "1    SYNPCC7942_RS00015      ambiguous\n",
       "2    SYNPCC7942_RS00020      essential\n",
       "3    SYNPCC7942_RS00045      essential\n",
       "4    SYNPCC7942_RS00090     beneficial\n",
       "..                  ...            ...\n",
       "780  SYNPCC7942_RS13310  non-essential\n",
       "781  SYNPCC7942_RS13425  non-essential\n",
       "782  SYNPCC7942_RS13430  non-essential\n",
       "783  SYNPCC7942_RS13375  non-essential\n",
       "784  SYNPCC7942_RS13380  non-essential\n",
       "\n",
       "[785 rows x 2 columns]"
      ]
     },
     "execution_count": 108,
     "metadata": {},
     "output_type": "execute_result"
    }
   ],
   "source": [
    "important_data"
   ]
  },
  {
   "cell_type": "code",
   "execution_count": 109,
   "metadata": {},
   "outputs": [],
   "source": [
    "important_data.loc[~(important_data.essential == 'essential'), 'essential'] = False\n",
    "important_data.loc[important_data.essential == 'essential', 'essential'] = True\n"
   ]
  },
  {
   "cell_type": "code",
   "execution_count": 110,
   "metadata": {},
   "outputs": [
    {
     "data": {
      "text/html": [
       "<div>\n",
       "<style scoped>\n",
       "    .dataframe tbody tr th:only-of-type {\n",
       "        vertical-align: middle;\n",
       "    }\n",
       "\n",
       "    .dataframe tbody tr th {\n",
       "        vertical-align: top;\n",
       "    }\n",
       "\n",
       "    .dataframe thead th {\n",
       "        text-align: right;\n",
       "    }\n",
       "</style>\n",
       "<table border=\"1\" class=\"dataframe\">\n",
       "  <thead>\n",
       "    <tr style=\"text-align: right;\">\n",
       "      <th></th>\n",
       "      <th>gene</th>\n",
       "      <th>essential</th>\n",
       "    </tr>\n",
       "  </thead>\n",
       "  <tbody>\n",
       "    <tr>\n",
       "      <th>0</th>\n",
       "      <td>SYNPCC7942_RS00005</td>\n",
       "      <td>False</td>\n",
       "    </tr>\n",
       "    <tr>\n",
       "      <th>1</th>\n",
       "      <td>SYNPCC7942_RS00015</td>\n",
       "      <td>False</td>\n",
       "    </tr>\n",
       "    <tr>\n",
       "      <th>2</th>\n",
       "      <td>SYNPCC7942_RS00020</td>\n",
       "      <td>True</td>\n",
       "    </tr>\n",
       "    <tr>\n",
       "      <th>3</th>\n",
       "      <td>SYNPCC7942_RS00045</td>\n",
       "      <td>True</td>\n",
       "    </tr>\n",
       "    <tr>\n",
       "      <th>4</th>\n",
       "      <td>SYNPCC7942_RS00090</td>\n",
       "      <td>False</td>\n",
       "    </tr>\n",
       "    <tr>\n",
       "      <th>...</th>\n",
       "      <td>...</td>\n",
       "      <td>...</td>\n",
       "    </tr>\n",
       "    <tr>\n",
       "      <th>780</th>\n",
       "      <td>SYNPCC7942_RS13310</td>\n",
       "      <td>False</td>\n",
       "    </tr>\n",
       "    <tr>\n",
       "      <th>781</th>\n",
       "      <td>SYNPCC7942_RS13425</td>\n",
       "      <td>False</td>\n",
       "    </tr>\n",
       "    <tr>\n",
       "      <th>782</th>\n",
       "      <td>SYNPCC7942_RS13430</td>\n",
       "      <td>False</td>\n",
       "    </tr>\n",
       "    <tr>\n",
       "      <th>783</th>\n",
       "      <td>SYNPCC7942_RS13375</td>\n",
       "      <td>False</td>\n",
       "    </tr>\n",
       "    <tr>\n",
       "      <th>784</th>\n",
       "      <td>SYNPCC7942_RS13380</td>\n",
       "      <td>False</td>\n",
       "    </tr>\n",
       "  </tbody>\n",
       "</table>\n",
       "<p>785 rows × 2 columns</p>\n",
       "</div>"
      ],
      "text/plain": [
       "                   gene essential\n",
       "0    SYNPCC7942_RS00005     False\n",
       "1    SYNPCC7942_RS00015     False\n",
       "2    SYNPCC7942_RS00020      True\n",
       "3    SYNPCC7942_RS00045      True\n",
       "4    SYNPCC7942_RS00090     False\n",
       "..                  ...       ...\n",
       "780  SYNPCC7942_RS13310     False\n",
       "781  SYNPCC7942_RS13425     False\n",
       "782  SYNPCC7942_RS13430     False\n",
       "783  SYNPCC7942_RS13375     False\n",
       "784  SYNPCC7942_RS13380     False\n",
       "\n",
       "[785 rows x 2 columns]"
      ]
     },
     "execution_count": 110,
     "metadata": {},
     "output_type": "execute_result"
    }
   ],
   "source": [
    "important_data"
   ]
  },
  {
   "cell_type": "code",
   "execution_count": 111,
   "metadata": {},
   "outputs": [],
   "source": [
    "important_data.to_csv('syn_elo_knockdown.csv')"
   ]
  },
  {
   "cell_type": "code",
   "execution_count": null,
   "metadata": {},
   "outputs": [],
   "source": []
  }
 ],
 "metadata": {
  "kernelspec": {
   "display_name": "Python 3 (ipykernel)",
   "language": "python",
   "name": "python3"
  },
  "language_info": {
   "codemirror_mode": {
    "name": "ipython",
    "version": 3
   },
   "file_extension": ".py",
   "mimetype": "text/x-python",
   "name": "python",
   "nbconvert_exporter": "python",
   "pygments_lexer": "ipython3",
   "version": "3.10.6"
  }
 },
 "nbformat": 4,
 "nbformat_minor": 1
}
