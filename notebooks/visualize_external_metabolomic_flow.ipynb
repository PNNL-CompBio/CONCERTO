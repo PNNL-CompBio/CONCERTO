{
 "cells": [
  {
   "cell_type": "markdown",
   "metadata": {},
   "source": [
    "# Notebook to demonstrate visualizing external metabolite exchanges and reaction fluxes between multiple organisms"
   ]
  },
  {
   "cell_type": "markdown",
   "metadata": {},
   "source": [
    "## Load modules"
   ]
  },
  {
   "cell_type": "code",
   "execution_count": null,
   "metadata": {
    "pycharm": {
     "name": "#%%\n"
    }
   },
   "outputs": [],
   "source": [
    "import cobra\n",
    "import pandas as pd\n",
    "import numpy as np\n",
    "from notebooks import viz_utils\n",
    "import plotly.graph_objects as go\n",
    "import plotly.express as px"
   ]
  },
  {
   "cell_type": "markdown",
   "metadata": {},
   "source": [
    "## Load Organism Models"
   ]
  },
  {
   "cell_type": "code",
   "execution_count": null,
   "metadata": {
    "pycharm": {
     "name": "#%%\n"
    }
   },
   "outputs": [],
   "source": [
    "from concerto.helpers.load_model_from_git import load_model_from_git\n",
    "\n",
    "av = load_model_from_git('Azotobacter')\n",
    "syn = load_model_from_git('Synechococcus')\n",
    "rt = load_model_from_git('Rhodosporidium')\n",
    "\n",
    "# Override synechococcus model since the sucrose\n",
    "# will be removed soon and can utilize above\n",
    "syn = cobra.io.read_sbml_model('../models/synechococcus_elongatus_pcc_7942/iJB785_w_sucrose_transport.xml')"
   ]
  },
  {
   "cell_type": "markdown",
   "metadata": {},
   "source": [
    "### Update model ids: \n",
    "The \"Id_Id\" format prevents erasing org name entirely for each organism node in visualization"
   ]
  },
  {
   "cell_type": "code",
   "execution_count": null,
   "metadata": {
    "pycharm": {
     "name": "#%%\n"
    }
   },
   "outputs": [],
   "source": [
    "# format ==> \"Id_Id\"\n",
    "\n",
    "\n",
    "# will this be needed without d3flux?\n",
    "\n",
    "syn.id = \"Se_Se\"\n",
    "rt.id = \"Rt_Rt\"\n",
    "av.id = \"Av_Av\"\n",
    "# Order matters!!! Should match order of row names in flux dataframe\n",
    "org_ids = [av.id, rt.id, syn.id]\n",
    "\n",
    "num_orgs = len(org_ids)"
   ]
  },
  {
   "cell_type": "markdown",
   "metadata": {},
   "source": [
    "## Demonstrate default d3flux visualization for combined models"
   ]
  },
  {
   "cell_type": "markdown",
   "metadata": {},
   "source": [
    "### Create organized d3flux map using the combined model and only shared external metabolites"
   ]
  },
  {
   "cell_type": "code",
   "execution_count": null,
   "metadata": {},
   "outputs": [],
   "source": [
    "# Create a model name used to label the new cobra model and save corresponding json files\n",
    "combined_model_name = \"AvRtSe_Metabolite_Exchange_Model_SharedOnly\"\n",
    "\n",
    "# Define figure boundaries and spacing between nodes for x & y directions\n",
    "x_vals = {\n",
    "    'min': -80,\n",
    "    'max': 830,\n",
    "    'space': 133\n",
    "}\n",
    "y_vals = {\n",
    "    'min': 10,\n",
    "    'max': 720,\n",
    "    'space': 16\n",
    "}\n",
    "\n",
    "# Generate organism-metabolite map\n",
    "fluxmap_dict = viz_utils.make_3organism_extmetab_viz(\n",
    "    [av, syn, rt],\n",
    "    model_name = combined_model_name,\n",
    "    \n",
    "    x_min = x_vals['min'],\n",
    "    x_max = x_vals['max'],\n",
    "    d_x = x_vals['space'],\n",
    "    \n",
    "    y_min = y_vals['min'],\n",
    "    y_max = y_vals['max'],\n",
    "    d_y = y_vals['space'],\n",
    ")\n",
    "\n",
    "# Display map\n",
    "#display(fluxmap_dict[\"map\"])"
   ]
  },
  {
   "cell_type": "markdown",
   "metadata": {},
   "source": [
    "### Create combined model for three organisms, now including all external metabolites"
   ]
  },
  {
   "cell_type": "code",
   "execution_count": null,
   "metadata": {},
   "outputs": [],
   "source": [
    "combined_model_name_all = \"AvRtSe_Metabolite_Exchange_Model_All\"\n",
    "\n",
    "av_syn_rt_exchange_model_all_ext_m = viz_utils.make_combined_model_external_mets(\n",
    "    [av, syn, rt],\n",
    "    model_name = combined_model_name_all\n",
    ")"
   ]
  },
  {
   "cell_type": "code",
   "execution_count": null,
   "metadata": {
    "scrolled": true
   },
   "outputs": [],
   "source": [
    "av_syn_rt_exchange_model_all_ext_m"
   ]
  },
  {
   "cell_type": "code",
   "execution_count": null,
   "metadata": {},
   "outputs": [],
   "source": [
    "# Define figure boundaries and spacing between nodes for x & y directions\n",
    "x_vals = {\n",
    "    'min': -20,\n",
    "    'max': 830,\n",
    "    'space': 130\n",
    "}\n",
    "y_vals = {\n",
    "    'min': 10,\n",
    "    'max': 730,\n",
    "    'space': 15\n",
    "}\n",
    "\n",
    "# Generate organism-metabolite map\n",
    "# NOTE: Multi-organism model passed in here to ensure the correct \"all external metabolites\" version is used.\n",
    "#       Otherwise, a \"shared metabolite only\" version is created and used\n",
    "fluxmap_dict = viz_utils.make_3organism_extmetab_viz(\n",
    "    [av, syn, rt],\n",
    "    model_name = combined_model_name_all,\n",
    "    multi_org_model = av_syn_rt_exchange_model_all_ext_m,\n",
    "    \n",
    "    x_min = x_vals['min'],\n",
    "    x_max = x_vals['max'],\n",
    "    d_x = x_vals['space'],\n",
    "    \n",
    "    y_min = y_vals['min'],\n",
    "    y_max = y_vals['max'],\n",
    "    d_y = y_vals['space'],\n",
    ")\n",
    "\n",
    "# Display map\n",
    "#display(fluxmap_dict[\"map\"])"
   ]
  },
  {
   "cell_type": "markdown",
   "metadata": {},
   "source": [
    "## Create Sankey/Alluvial diagrams to track external metabolimic flow between organisms"
   ]
  },
  {
   "cell_type": "markdown",
   "metadata": {},
   "source": [
    "### Create combined model for three organisms, only including shared external metabolites"
   ]
  },
  {
   "cell_type": "code",
   "execution_count": null,
   "metadata": {},
   "outputs": [],
   "source": [
    "# Create a model name used to label the new cobra model and save corresponding json files\n",
    "combined_model_name = \"AvRtSe_Metabolite_Exchange_Model_SharedOnly\"\n",
    "\n",
    "av_syn_rt_exchange_model = viz_utils.make_combined_model_external_mets_shared_only(\n",
    "    [av, syn, rt],\n",
    "    model_name = combined_model_name\n",
    ")"
   ]
  },
  {
   "cell_type": "code",
   "execution_count": null,
   "metadata": {
    "scrolled": false
   },
   "outputs": [],
   "source": [
    "av_syn_rt_exchange_model"
   ]
  },
  {
   "cell_type": "markdown",
   "metadata": {},
   "source": [
    "### Import fluxes"
   ]
  },
  {
   "cell_type": "code",
   "execution_count": null,
   "metadata": {
    "pycharm": {
     "name": "#%%\n"
    }
   },
   "outputs": [],
   "source": [
    "# Read in and manipulate df for flux info\n",
    "# flux_fname = \"../fluxes/Unedited_Medium_Fluxes.csv\"\n",
    "# flux_fname = \"../fluxes/ternary_consortium_fluxes_w_glc_and_sucr_and_n2_no_leu_no_nh4.csv\"\n",
    "\n",
    "flux_fname = \"../fluxes/ternary_model_co2_n2_growth.csv\"\n",
    "# flux_fname = \"../fluxes/ternary_model_co2_n2_growth_reduced_photons.csv\"\n",
    "\n",
    "flux_df = pd.read_csv(flux_fname)\n",
    "\n",
    "# Create dict to match organism id's to df index/rownames \n",
    "orgname_col = 'compartment'\n",
    "\n",
    "\n",
    "# need more robust way. Depends on ordering of orgs. Should be able to use compartment name alone.\n",
    "# pd.DataFrame().rename(dict()) would be agnostic to ordering\n",
    "org_comp2id_dict = {flux_df[orgname_col][i]:org_ids[i] for i in range(num_orgs)}\n",
    "org_comp2id_dict[flux_df[orgname_col][num_orgs]] = flux_df[orgname_col][num_orgs] # medium, currently not used but needed to match nrow(df)\n",
    "\n",
    "# Define the organism IDs as the df index\n",
    "flux_df.index = [org_comp2id_dict[k] for k in org_comp2id_dict]\n",
    "\n",
    "display(flux_df.head())"
   ]
  },
  {
   "cell_type": "markdown",
   "metadata": {},
   "source": [
    "## Organize node and link info for Sankey/Alluvial diagram"
   ]
  },
  {
   "cell_type": "markdown",
   "metadata": {},
   "source": [
    "### Define x-positions for different nodes"
   ]
  },
  {
   "cell_type": "code",
   "execution_count": null,
   "metadata": {},
   "outputs": [],
   "source": [
    "x_pos = {\n",
    "    \"source_m\": 0.001,    # source metabolites that go into the system\n",
    "    \"donor_org\": 0.25,    # organisms acting as donors\n",
    "    \"shared_m\": 0.5,      # metabolites shared between more than two organisms\n",
    "    \"receiver_org\": 0.75, # organisms acting as receivers\n",
    "    \"excreted_m\": 0.999,  # output metabolites that go into the system\n",
    "}"
   ]
  },
  {
   "cell_type": "markdown",
   "metadata": {},
   "source": [
    "### Organize subclasses for metabolites"
   ]
  },
  {
   "cell_type": "code",
   "execution_count": null,
   "metadata": {},
   "outputs": [],
   "source": [
    "carrier_m = {\n",
    "    'C': {\n",
    "        'names': [],\n",
    "        'color': 'rgb(78, 173, 91)' # Hex = 4EAD5B #'green'\n",
    "    },\n",
    "    'N': {\n",
    "        'names': [],\n",
    "        'color': 'rgb(202, 123, 44)' # Hex = CA7B2C # 'orange', #\n",
    "    },\n",
    "    'C+N': {\n",
    "        'names': [],\n",
    "        'color': 'rgb(0,0,1)' # 'blue',\n",
    "    },\n",
    "    'sunlight': {\n",
    "        'names': [],\n",
    "        'color': 'rgb(245, 194, 66)' # Hex = F5C242 # 'yellow',# \n",
    "    },\n",
    "    'jet_fuel': {\n",
    "        'list_of_m': [], # NEEDS TO BE FILLED WITH JET-FUEL CANDIDATE METABOLITES\n",
    "        'names': [],\n",
    "        'color': 'rgb(133, 26, 43)' # Hex = 851A2B # 'red', #\n",
    "    },\n",
    "}"
   ]
  },
  {
   "cell_type": "markdown",
   "metadata": {},
   "source": [
    "### Add organisms into their respective carrier groups"
   ]
  },
  {
   "cell_type": "code",
   "execution_count": null,
   "metadata": {},
   "outputs": [],
   "source": [
    "# Synecococcus is the carbon carrier\n",
    "carrier_m['C']['names'].append('Se_Se')\n",
    "\n",
    "# Azotobacter is the nitrogen carrier\n",
    "carrier_m['N']['names'].append('Av_Av')\n",
    "\n",
    "# Rhodosporidium is the jet fuel creator\n",
    "carrier_m['jet_fuel']['names'].append('Rt_Rt')"
   ]
  },
  {
   "cell_type": "markdown",
   "metadata": {},
   "source": [
    "### Add corresponding metabolites into their respective carrier groups"
   ]
  },
  {
   "cell_type": "code",
   "execution_count": null,
   "metadata": {},
   "outputs": [],
   "source": [
    "for m in av_syn_rt_exchange_model_all_ext_m.metabolites:\n",
    "    if m.id.lower().startswith(\"photon\"):\n",
    "        carrier_m['sunlight']['names'].append(m.id[:-2])\n",
    "    elif ('C' in m.elements) and ('N' not in m.elements):\n",
    "        carrier_m['C']['names'].append(m.id[:-2])\n",
    "    elif ('C' not in m.elements) and ('N' in m.elements):\n",
    "        carrier_m['N']['names'].append(m.id[:-2])\n",
    "    elif ('C' in m.elements) and ('N' in m.elements):\n",
    "        carrier_m['C+N']['names'].append(m.id[:-2])\n",
    "    elif m.id in carrier_m['jet_fuel']['list_of_m']:\n",
    "        carrier_m['jet_fuel']['names'].append(m.id[:-2])\n",
    "\n",
    "carrier_names = []\n",
    "for k in carrier_m:\n",
    "    carrier_names.extend(carrier_m[k]['names'])"
   ]
  },
  {
   "cell_type": "markdown",
   "metadata": {},
   "source": [
    "### Initialize dataframe for node information"
   ]
  },
  {
   "cell_type": "code",
   "execution_count": null,
   "metadata": {
    "pycharm": {
     "name": "#%%\n"
    }
   },
   "outputs": [],
   "source": [
    "# Construct node df with info about node index, class/type, and coordinates\n",
    "\n",
    "# Add Donor organisms to node df\n",
    "doner_df = pd.DataFrame.from_dict({\n",
    "    \"Node_Idx\": np.arange(0, num_orgs),\n",
    "    \"Node_Name\": org_ids,\n",
    "    \"Type\": [\"donor_org\"]*num_orgs,\n",
    "    \"Xpos\": [x_pos['donor_org']]*num_orgs,\n",
    "    \"Ypos\": [np.nan]*num_orgs, #np.linspace(0.01, 0.99, num=Num_orgs) if Num_orgs>=3 else [0.33, 0.66] if Num_orgs==2 else [0.5],\n",
    "    \"Color\": ['rgb(0,0,0)']*num_orgs\n",
    "})\n",
    "\n",
    "# Add Receiver organisms to node df\n",
    "receiver_df = pd.DataFrame.from_dict({\n",
    "    \"Node_Idx\": np.arange(num_orgs,(2*num_orgs)),\n",
    "    \"Node_Name\": org_ids,\n",
    "    \"Type\": [\"receiver_org\"]*num_orgs,\n",
    "    \"Xpos\": [x_pos['receiver_org']]*num_orgs,\n",
    "    \"Ypos\": [np.nan]*num_orgs, #np.linspace(0.01, 0.99, num=Num_orgs) if Num_orgs>=3 else [0.33, 0.66] if Num_orgs==2 else [0.5],\n",
    "    \"Color\": ['rgb(0,0,0)']*num_orgs\n",
    "})\n",
    "\n",
    "\n",
    "# Add external metabolites to node df\n",
    "# Note: needs refinement after considering reactions (see next cell)\n",
    "ext_ms = [m for m in av_syn_rt_exchange_model_all_ext_m.metabolites if m.id not in org_ids]\n",
    "ext_m_ids = [m.id[:-2] for m in ext_ms]\n",
    "ext_m_ids.sort()\n",
    "num_ms = len(ext_m_ids)\n",
    "\n",
    "external_df = pd.DataFrame.from_dict({\n",
    "    \"Node_Idx\": ((2*num_orgs)+np.arange(num_ms)),\n",
    "    \"Node_Name\": ext_m_ids,\n",
    "    \"Type\": [\"metabolites\"]*num_ms, # Will need updating\n",
    "    \"Xpos\": [np.nan]*num_ms, # Will need updating\n",
    "    \"Ypos\": [np.nan]*num_ms, # Will need updating,\n",
    "    \"Color\": ['rgb(0,0,0)']*num_ms\n",
    "})\n",
    "\n",
    "\n",
    "\n",
    "node_df = pd.concat([doner_df, receiver_df, external_df], ignore_index=True)\n"
   ]
  },
  {
   "cell_type": "markdown",
   "metadata": {},
   "source": [
    "### Generate links between nodes & refine x-positions of nodes"
   ]
  },
  {
   "cell_type": "code",
   "execution_count": null,
   "metadata": {
    "pycharm": {
     "name": "#%%\n"
    }
   },
   "outputs": [],
   "source": [
    "flux_threshold = 0.001\n",
    "\n",
    "# Construct link df - first pass at connecting organisms to metabolites\n",
    "links_df = pd.DataFrame(columns = [\"Sources\", \"Source_Name\",\"Targets\", \"Target_Name\", \"Values\"])\n",
    "\n",
    "m_in_use = []\n",
    "# I assume the r.id[:-6] are from removing orgID_ordID?\n",
    "# these indexes and namings can be improved.\n",
    "for r in av_syn_rt_exchange_model_all_ext_m.reactions:\n",
    "    if r.id[:-6] in flux_df.columns:\n",
    "        # Recall that each reaction is between a single metabolite and a single organism\n",
    "        this_m = r.id[3:-8]\n",
    "        this_met_idx = node_df[(node_df['Node_Name']==this_m)][\"Node_Idx\"].values[0]\n",
    "        this_org = r.id[-5:]\n",
    "        this_val = flux_df.loc[this_org, r.id[:-6]]\n",
    "        this_col = flux_df.loc[org_ids, r.id[:-6]]\n",
    "        \n",
    "        # Count good fluxes and flow direction\n",
    "        sum_good_flux = num_orgs\n",
    "        sum_pos_flux = 0\n",
    "        sum_neg_flux = 0\n",
    "        for v in this_col:\n",
    "            if np.isnan(v) or abs(v)<=flux_threshold:\n",
    "                sum_good_flux -= 1\n",
    "            else:\n",
    "                if abs(v)>flux_threshold and v>0:\n",
    "                    sum_pos_flux += 1\n",
    "                if abs(v)>flux_threshold and v<0:\n",
    "                    sum_neg_flux += 1\n",
    "        \n",
    "        # Organize info for good reactions\n",
    "        if (sum_good_flux >= 1) and (not np.isnan(this_val)) and (abs(this_val)>flux_threshold): \n",
    "            # Include metabolite into tracked list\n",
    "            m_in_use.append(this_m)\n",
    "            \n",
    "            # Reaction from source-met to donor-org: overall, only negative fluxes\n",
    "            if (sum_pos_flux==0) and (sum_neg_flux>0) and (this_val<0): # negative means uptake from the environment into the organism\n",
    "                this_org_idx = node_df[(node_df[\"Node_Name\"]==this_org) & (node_df[\"Type\"]==\"donor_org\")][\"Node_Idx\"].values[0]\n",
    "                links_df.loc[len(links_df.index)] = [this_met_idx,\n",
    "                                                     this_m,\n",
    "                                                     this_org_idx, \n",
    "                                                     this_org,\n",
    "                                                     abs(this_val)]\n",
    "                if np.isnan(node_df.loc[this_met_idx, \"Xpos\"]):\n",
    "                    node_df.loc[this_met_idx, \"Xpos\"] = x_pos['source_m']\n",
    "                    node_df.loc[this_met_idx, \"Type\"] = 'source_m'            \n",
    "\n",
    "            # Reaction between shared-met and an org\n",
    "            if (sum_pos_flux>0) and (sum_neg_flux>0):\n",
    "                # Reaction from donor-org to shared-met:\n",
    "                if this_val>0: # positive means secretion from the organism into the environment\n",
    "                    this_org_idx = node_df[(node_df[\"Node_Name\"]==this_org) & (node_df[\"Type\"]==\"donor_org\")][\"Node_Idx\"].values[0]\n",
    "                    links_df.loc[len(links_df.index)] = [this_org_idx,\n",
    "                                                         this_org,\n",
    "                                                         this_met_idx,\n",
    "                                                         this_m,\n",
    "                                                         abs(this_val)]\n",
    "                \n",
    "                # Reaction from shared-met to receiver-org:\n",
    "                if this_val<0: # negative means uptake from the environment into the organism\n",
    "                    this_org_idx = node_df[(node_df[\"Node_Name\"]==this_org) & (node_df[\"Type\"]==\"receiver_org\")][\"Node_Idx\"].values[0]\n",
    "                    links_df.loc[len(links_df.index)] = [this_met_idx,\n",
    "                                                         this_m,\n",
    "                                                         this_org_idx,\n",
    "                                                         this_org,\n",
    "                                                         abs(this_val)]\n",
    "                    \n",
    "                if np.isnan(node_df.loc[this_met_idx, \"Xpos\"]):\n",
    "                    if sum_pos_flux>sum_neg_flux: # More excreted than sourced\n",
    "                        node_df.loc[this_met_idx, \"Xpos\"] = x_pos['shared_m'] - 0.15\n",
    "                    elif sum_pos_flux==sum_neg_flux: # Equally excreted and sourced\n",
    "                        node_df.loc[this_met_idx, \"Xpos\"] = x_pos['shared_m']\n",
    "                    elif sum_pos_flux<sum_neg_flux: # More sourced than excreted\n",
    "                        node_df.loc[this_met_idx, \"Xpos\"] = x_pos['shared_m'] + 0.15\n",
    "                    node_df.loc[this_met_idx, \"Type\"] = 'shared_m'\n",
    "            \n",
    "\n",
    "            # Reaction from receiver-org to excreted-met: overall, only negative fluxes\n",
    "            if (sum_pos_flux>0) and (sum_neg_flux==0) and (this_val>0): # positive means secretion from the organism into the environment\n",
    "                this_org_idx = node_df[(node_df[\"Node_Name\"]==this_org) & (node_df[\"Type\"]==\"receiver_org\")][\"Node_Idx\"].values[0]\n",
    "                links_df.loc[len(links_df.index)] = [this_org_idx,\n",
    "                                                     this_org,\n",
    "                                                     this_met_idx,\n",
    "                                                     this_m,\n",
    "                                                     abs(this_val)]\n",
    "                if np.isnan(node_df.loc[this_met_idx, \"Xpos\"]):\n",
    "                    node_df.loc[this_met_idx, \"Xpos\"] = x_pos['excreted_m']\n",
    "                    node_df.loc[this_met_idx,\"Type\"] = 'excreted_m'\n",
    "\n",
    "m_in_use = np.unique(m_in_use)\n"
   ]
  },
  {
   "cell_type": "markdown",
   "metadata": {},
   "source": [
    "### Assign colors to nodes"
   ]
  },
  {
   "cell_type": "code",
   "execution_count": null,
   "metadata": {
    "pycharm": {
     "name": "#%%\n"
    },
    "scrolled": true
   },
   "outputs": [],
   "source": [
    "\n",
    "\n",
    "# Color palette in hexadecimal format\n",
    "myPalette = np.array(px.colors.qualitative.Light24) #np.array(px.colors.qualitative.Alphabet + px.colors.qualitative.Dark24 + px.colors.qualitative.Light24)\n",
    "\n",
    "# Color palette as RGB tuples\n",
    "myPalette_rgb = [tuple(int(c.lstrip('#')[i:i+2], 16) for i in (0, 2, 4)) for c in myPalette]\n",
    "myPalette_rgb_list = [f'rgb{c}' for c in myPalette_rgb]\n",
    "\n",
    "# Add colors to node_df\n",
    "color_count = 0\n",
    "org_idx = [i for i,n in enumerate(node_df['Node_Name']) if (n in org_ids)]\n",
    "m_in_use_idx = [i for i,n in enumerate(node_df['Node_Name']) if (n in m_in_use)]\n",
    "\n",
    "for i in org_idx+m_in_use_idx:\n",
    "    this_node = node_df.loc[i, 'Node_Name']\n",
    "    if this_node in carrier_names:\n",
    "        for this_type in carrier_m:\n",
    "            if this_node in carrier_m[this_type]['names']:\n",
    "                node_df.loc[i, 'Color'] = carrier_m[this_type]['color']\n",
    "    else:\n",
    "        node_df.loc[i, 'Color'] = myPalette_rgb_list[color_count]\n",
    "        color_count += 1\n",
    "        if color_count==len(myPalette_rgb_list):\n",
    "            color_count=0\n"
   ]
  },
  {
   "cell_type": "markdown",
   "metadata": {},
   "source": [
    "### Assign y-positions to nodes based on color & x-position groupings"
   ]
  },
  {
   "cell_type": "code",
   "execution_count": null,
   "metadata": {
    "pycharm": {
     "name": "#%%\n"
    }
   },
   "outputs": [],
   "source": [
    "# Carrier type ordering\n",
    "c_type_order = ['sunlight', 'C', 'N', 'jet_fuel']\n",
    "\n",
    "for this_n_type in x_pos.keys():\n",
    "    this_df = node_df[node_df['Type']==this_n_type]\n",
    "    this_n_list = set(this_df['Node_Name'])\n",
    "    this_yPos_N = len(this_n_list)\n",
    "    new_n_list = []\n",
    "    # Collect node-names in preferred ordered list\n",
    "    for this_c_type in c_type_order:\n",
    "        names_in_this_c_type = [n for n in this_df['Node_Name'] if n in carrier_m[this_c_type]['names']]\n",
    "        if len(names_in_this_c_type)>0:\n",
    "            # Include these names in list\n",
    "            new_n_list.extend(names_in_this_c_type)\n",
    "            \n",
    "            # Add a spacer after each group\n",
    "            this_yPos_N += 1\n",
    "            new_n_list.append('space')\n",
    "            # print(this_n_type, this_n_list, names_in_this_c_type)\n",
    "            # Remove included nodes from this_n_list\n",
    "            this_n_list.difference_update(names_in_this_c_type)\n",
    "    # Collect remaining node-names into new_n_list\n",
    "    new_n_list.extend(this_n_list)\n",
    "    \n",
    "    new_n_df = pd.DataFrame.from_dict({'Name': new_n_list, 'Ypos': np.linspace(0.01,0.99,this_yPos_N)})\n",
    "    \n",
    "    # Update node_df with y-values\n",
    "    for i,n in enumerate(new_n_df['Name']):\n",
    "        if not(n=='space'):\n",
    "            node_df.loc[node_df['Node_Name']==n, 'Ypos'] = new_n_df.loc[i, 'Ypos']"
   ]
  },
  {
   "cell_type": "code",
   "execution_count": null,
   "metadata": {
    "pycharm": {
     "name": "#%%\n"
    }
   },
   "outputs": [],
   "source": [
    "node_df.head()"
   ]
  },
  {
   "cell_type": "code",
   "execution_count": null,
   "metadata": {},
   "outputs": [],
   "source": [
    "# Refine node labels for organisms\n",
    "for org in org_ids:\n",
    "    match_idx = node_df['Node_Name']==org\n",
    "    node_df.loc[match_idx, 'Node_Name'] = flux_df.loc[org, \"compartment\"]\n",
    "    node_df.loc[match_idx, 'Ypos'] = np.nan\n",
    "node_df"
   ]
  },
  {
   "cell_type": "code",
   "execution_count": null,
   "metadata": {},
   "outputs": [],
   "source": [
    "# Force photon flux values to 1\n",
    "for sn in links_df['Source_Name']:\n",
    "    if 'photon' in sn:\n",
    "        links_df.loc[links_df['Source_Name']==sn, 'Values'] = 1"
   ]
  },
  {
   "cell_type": "code",
   "execution_count": null,
   "metadata": {
    "pycharm": {
     "name": "#%%\n"
    }
   },
   "outputs": [],
   "source": [
    "flux_plot_filename = \"Alluvial_Diagram_Ternary_CO2_N2_Growth_NoScale.html\"\n",
    "\n",
    "# Generate diagram\n",
    "fig = go.Figure(go.Sankey(\n",
    "    valueformat = \".3f\",\n",
    "    node=dict(\n",
    "        pad = 15,\n",
    "        thickness = 30,\n",
    "        label=node_df['Node_Name'].values,\n",
    "        x=list(node_df['Xpos'].values),\n",
    "        y=list(node_df['Ypos'].values),\n",
    "        color=node_df['Color'].values\n",
    "            \n",
    "    ),\n",
    "    link=dict(\n",
    "        arrowlen=30,\n",
    "        source=links_df[\"Sources\"].values,\n",
    "        target=links_df[\"Targets\"].values,\n",
    "        value=links_df[\"Values\"].values\n",
    "    )\n",
    "))\n",
    "\n",
    "fig.update_layout(width=1200, height=700, margin={'t':10,'b':10})\n",
    "fig.update_layout(font_size=16)\n",
    "# fig.update_layout(title_text=\"Ternary Model Flux\")\n",
    "# fig.update_yaxes(autorange=True)\n",
    "# fig.update_yaxes(autoshift=True)\n",
    "fig.write_html(flux_plot_filename)\n",
    "fig.show()"
   ]
  },
  {
   "cell_type": "code",
   "execution_count": null,
   "metadata": {},
   "outputs": [],
   "source": []
  }
 ],
 "metadata": {
  "kernelspec": {
   "display_name": "Python 3 (ipykernel)",
   "language": "python",
   "name": "python3"
  },
  "language_info": {
   "codemirror_mode": {
    "name": "ipython",
    "version": 3
   },
   "file_extension": ".py",
   "mimetype": "text/x-python",
   "name": "python",
   "nbconvert_exporter": "python",
   "pygments_lexer": "ipython3",
   "version": "3.10.6"
  }
 },
 "nbformat": 4,
 "nbformat_minor": 4
}
