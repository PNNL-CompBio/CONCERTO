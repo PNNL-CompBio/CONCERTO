{
 "cells": [
  {
   "cell_type": "code",
   "execution_count": null,
   "outputs": [],
   "source": [
    "import cobra\n",
    "import d3flux as d3f"
   ],
   "metadata": {
    "collapsed": false,
    "pycharm": {
     "name": "#%%\n"
    }
   }
  },
  {
   "cell_type": "code",
   "execution_count": null,
   "outputs": [],
   "source": [
    "from concerto.helpers.load_model_from_git import load_model_from_git\n",
    "\n",
    "av = load_model_from_git('Azotobacter')\n",
    "syn = load_model_from_git('Synechococcus')\n",
    "rt = load_model_from_git('Rhodosporidium')"
   ],
   "metadata": {
    "collapsed": false,
    "pycharm": {
     "name": "#%%\n"
    }
   }
  },
  {
   "cell_type": "code",
   "execution_count": null,
   "outputs": [],
   "source": [
    "av_all = [i.id for i in av.metabolites]\n",
    "syn_all = [i.id for i in syn.metabolites]\n",
    "rt_all = [i.id for i in rt.metabolites]"
   ],
   "metadata": {
    "collapsed": false,
    "pycharm": {
     "name": "#%%\n"
    }
   }
  },
  {
   "cell_type": "code",
   "execution_count": null,
   "outputs": [],
   "source": [
    "print(av_all[0:5])"
   ],
   "metadata": {
    "collapsed": false,
    "pycharm": {
     "name": "#%%\n"
    }
   }
  },
  {
   "cell_type": "markdown",
   "source": [
    "We are interested in metabolites that are imported/exported between the organisms."
   ],
   "metadata": {
    "collapsed": false,
    "pycharm": {
     "name": "#%% md\n"
    }
   }
  },
  {
   "cell_type": "code",
   "execution_count": null,
   "outputs": [],
   "source": [
    "# comparing IDs\n",
    "# compartment _e == extra_cellular\n",
    "av_em = [i for i in av_all if i[-1] == 'e']\n",
    "syn_em = [i for i in syn_all if i[-1] == 'e']\n",
    "rt_em = [i for i in rt_all if i[-1] == 'e']"
   ],
   "metadata": {
    "collapsed": false,
    "pycharm": {
     "name": "#%%\n"
    }
   }
  },
  {
   "cell_type": "code",
   "execution_count": null,
   "outputs": [],
   "source": [
    "print(av_em[0:5])"
   ],
   "metadata": {
    "collapsed": false,
    "pycharm": {
     "name": "#%%\n"
    }
   }
  },
  {
   "cell_type": "code",
   "execution_count": null,
   "outputs": [],
   "source": [
    "### Find metabolites that 'could' be missing from models"
   ],
   "metadata": {
    "collapsed": false,
    "pycharm": {
     "name": "#%%\n"
    }
   }
  },
  {
   "cell_type": "code",
   "execution_count": null,
   "outputs": [],
   "source": [
    "def check_metab_in_org(to_inspect, organism_background):\n",
    "    background_core = [i.rsplit('_', 1)[0] for i in organism_background]\n",
    "    found_in_org = set()\n",
    "    for met in to_inspect:\n",
    "        met_core = met.rsplit('_', 1)[0]\n",
    "        if met_core in background_core:\n",
    "            found_in_org.add(met_core)\n",
    "    return found_in_org"
   ],
   "metadata": {
    "collapsed": false,
    "pycharm": {
     "name": "#%%\n"
    }
   }
  },
  {
   "cell_type": "code",
   "execution_count": null,
   "outputs": [],
   "source": [
    "check_metab_in_org(set(syn_em).difference(av_em), av_all)"
   ],
   "metadata": {
    "collapsed": false,
    "pycharm": {
     "name": "#%%\n"
    }
   }
  },
  {
   "cell_type": "code",
   "execution_count": null,
   "outputs": [],
   "source": [
    "check_metab_in_org(set(av_em).difference(rt_em), rt_all)"
   ],
   "metadata": {
    "collapsed": false,
    "pycharm": {
     "name": "#%%\n"
    }
   }
  },
  {
   "cell_type": "code",
   "execution_count": null,
   "outputs": [],
   "source": [
    "check_metab_in_org(set(syn_em).difference(rt_em), rt_all)"
   ],
   "metadata": {
    "collapsed": false,
    "pycharm": {
     "name": "#%%\n"
    }
   }
  },
  {
   "cell_type": "markdown",
   "source": [
    "# Total number of external metabolites between all three organisms"
   ],
   "metadata": {
    "collapsed": false,
    "pycharm": {
     "name": "#%% md\n"
    }
   }
  },
  {
   "cell_type": "code",
   "execution_count": null,
   "outputs": [],
   "source": [
    "r = av.reactions[0]\n",
    "m = av.metabolites[0]"
   ],
   "metadata": {
    "collapsed": false,
    "pycharm": {
     "name": "#%%\n"
    }
   }
  },
  {
   "cell_type": "code",
   "execution_count": null,
   "outputs": [],
   "source": [
    "all_ext_m = set(av_em).union(syn_em).union(rt_em)\n",
    "print(len(all_ext_m))"
   ],
   "metadata": {
    "collapsed": false,
    "pycharm": {
     "name": "#%%\n"
    }
   }
  },
  {
   "cell_type": "code",
   "execution_count": null,
   "outputs": [],
   "source": [
    "# BUILD MODEL BY LOOPING THROUGH REACTIONS\n",
    "# Function to creatae model for purposes of visualization with d3flux\n",
    "def make_metabolite_exchange_model(org_list):\n",
    "    metabolite_exchange_model = cobra.Model(\"Metabolite_Exchange_Model\")\n",
    "    # go through each organism\n",
    "    for this_org in org_list:\n",
    "        with this_org as org:\n",
    "            # create new metabolite species (needed for d3flux)\n",
    "            org_m = cobra.Metabolite(org.id)\n",
    "            org_m.compartment = org.id\n",
    "            \n",
    "            # go through each transport reaction with an external compartment\n",
    "            org_transport_er = [r for r in org.reactions if ('e' in r.compartments and len(r.compartments)>1)]\n",
    "            for r in org_transport_er:\n",
    "                # go through each non-external metabolite\n",
    "                for m in r.metabolites:\n",
    "                    # filter out exchange reaction (only allow transport reaction)\n",
    "                    # AND make sure we haven't already modified the internal metabolite of interest\n",
    "                    # Note: exchange reactions only contain external metabolites\n",
    "                    # modify metabolite compartment and id to include organism id\n",
    "                    if (m.compartment != 'e') and (org.id not in m.compartment) :\n",
    "                        m.compartment = m.compartment + \"_\" + org.id\n",
    "                        m.id = m.id + \"_\" + org.id\n",
    "                        # Add reaction between organism and metabolite\n",
    "                        new_r = cobra.Reaction(\"Reaction_\" + m.id)\n",
    "                        new_r.add_metabolites({org_m:-1, m:1})\n",
    "                        metabolite_exchange_model.add_reactions([new_r])\n",
    "                # Change reaction id then add it to the new model\n",
    "                r.id = r.id + \"_\" + org.id\n",
    "                metabolite_exchange_model.add_reactions([r])\n",
    "    return metabolite_exchange_model\n",
    "\n"
   ],
   "metadata": {
    "collapsed": false,
    "pycharm": {
     "name": "#%%\n"
    }
   }
  },
  {
   "cell_type": "code",
   "execution_count": null,
   "outputs": [],
   "source": [
    "syn_1 = load_model_from_git('Synechococcus')\n",
    "syn_1.id = \"Se_1\"\n",
    "\n",
    "syn_2 = load_model_from_git('Synechococcus')\n",
    "syn_2.id = \"Se_2\"\n",
    "\n",
    "syn_exchange_model = make_metabolite_exchange_model([syn_1, syn_2])"
   ],
   "metadata": {
    "collapsed": false,
    "pycharm": {
     "name": "#%%\n"
    }
   }
  },
  {
   "cell_type": "code",
   "execution_count": null,
   "outputs": [],
   "source": [
    "d3f.flux_map(syn_exchange_model)"
   ],
   "metadata": {
    "collapsed": false,
    "pycharm": {
     "name": "#%%\n"
    }
   }
  },
  {
   "cell_type": "code",
   "execution_count": null,
   "metadata": {
    "pycharm": {
     "name": "#%%\n"
    }
   },
   "outputs": [],
   "source": [
    "d3f.flux_map(syn_exchange_model)"
   ]
  },
  {
   "cell_type": "code",
   "execution_count": null,
   "metadata": {
    "pycharm": {
     "name": "#%%\n"
    }
   },
   "outputs": [],
   "source": [
    "syn_exchange_model.reactions[2]\n",
    "\n",
    "\n"
   ]
  },
  {
   "cell_type": "code",
   "execution_count": null,
   "metadata": {
    "pycharm": {
     "name": "#%%\n"
    }
   },
   "outputs": [],
   "source": [
    "# BUILD MODEL BY LOOPING THROUGH EXTERNAL METABOLITES ONLY\n",
    "\n",
    "# Function to create model for purposes of visualization with d3flux\n",
    "def make_metabolite_exchange_model_only_shared_external_metabolites(org_list):\n",
    "    metabolite_exchange_model = cobra.Model(\"Metabolite_Exchange_Model\")\n",
    "    # go through each organism\n",
    "    for this_org in org_list:\n",
    "        with this_org as org:\n",
    "            # create new metabolite species (needed for d3flux)\n",
    "            org_m = cobra.Metabolite(org.id)\n",
    "            org_m.compartment = org.id\n",
    "            \n",
    "            # go through each non-external metabolite\n",
    "            org_m_reactions = []\n",
    "            org_em = [m for m in org.metabolites if m.compartment == 'e']\n",
    "            for m in org_em:\n",
    "                # Add new reaction for this metabolite\n",
    "                new_r = cobra.Reaction(\"Reaction_\" + m.id + \"_\" + org.id)\n",
    "                new_r.add_metabolites({org_m:-1, m:1})\n",
    "                org_m_reactions.append(new_r)\n",
    "\n",
    "            # Add new reactions to new model\n",
    "            metabolite_exchange_model.add_reactions(org_m_reactions)\n",
    "    \n",
    "    lone_metabolites = [m for m in metabolite_exchange_model.metabolites if len(m.reactions)==1]\n",
    "    metabolite_exchange_model.remove_metabolites(lone_metabolites, destructive=True)\n",
    "\n",
    "    return metabolite_exchange_model\n"
   ]
  },
  {
   "cell_type": "code",
   "execution_count": null,
   "metadata": {
    "pycharm": {
     "name": "#%%\n"
    }
   },
   "outputs": [],
   "source": [
    "av = load_model_from_git('Azotobacter')\n",
    "syn = load_model_from_git('Synechococcus')\n",
    "rt = load_model_from_git('Rhodosporidium')\n",
    "syn.id = \"Se_Se\"\n",
    "av.id = \"Av_Av\"\n",
    "rt.id = \"Rt_Rt\"\n",
    "av_syn_rt_exchange_model = make_metabolite_exchange_model_only_shared_external_metabolites([av, syn, rt])\n",
    "\n",
    "d3f.flux_map(av_syn_rt_exchange_model)\n"
   ]
  },
  {
   "cell_type": "code",
   "execution_count": null,
   "metadata": {
    "pycharm": {
     "name": "#%%\n"
    }
   },
   "outputs": [],
   "source": []
  }
 ],
 "metadata": {
  "kernelspec": {
   "display_name": "Python 3 (ipykernel)",
   "language": "python",
   "name": "python3"
  },
  "language_info": {
   "codemirror_mode": {
    "name": "ipython",
    "version": 3
   },
   "file_extension": ".py",
   "mimetype": "text/x-python",
   "name": "python",
   "nbconvert_exporter": "python",
   "pygments_lexer": "ipython3",
   "version": "3.10.6"
  }
 },
 "nbformat": 4,
 "nbformat_minor": 1
}