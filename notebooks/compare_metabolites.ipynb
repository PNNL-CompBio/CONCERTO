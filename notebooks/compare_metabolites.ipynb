{
 "cells": [
  {
   "cell_type": "code",
   "execution_count": 1,
   "metadata": {
    "pycharm": {
     "name": "#%%\n"
    }
   },
   "outputs": [],
   "source": [
    "import cobra\n",
    "from magine.plotting.venn_diagram_maker import create_venn3"
   ]
  },
  {
   "cell_type": "code",
   "execution_count": 2,
   "metadata": {
    "pycharm": {
     "name": "#%%\n"
    }
   },
   "outputs": [],
   "source": [
    "av = cobra.io.read_sbml_model('../models/azotobacter_vinelandii_dj/iDT1278.xml')\n",
    "syn = cobra.io.read_sbml_model('../models/synechococcus_elongatus_pcc_7942/iJB785.xml')\n",
    "rt = cobra.io.read_sbml_model('../models/rhodosporidium_toruloides_ifo_08804/Rt_IFO0880.xml')"
   ]
  },
  {
   "cell_type": "code",
   "execution_count": null,
   "metadata": {
    "pycharm": {
     "name": "#%%\n"
    }
   },
   "outputs": [],
   "source": [
    "# compare all metabolites across the three models\n",
    "av_m = [i.id for i in av.metabolites]\n",
    "syn_m = [i.id for i in syn.metabolites]\n",
    "rt_m = [i.id for i in rt.metabolites]\n",
    "create_venn3(av_m, syn_m, rt_m, 'AV', 'SYN', 'RT')"
   ]
  },
  {
   "cell_type": "markdown",
   "metadata": {
    "pycharm": {
     "name": "#%%\n"
    }
   },
   "source": [
    "We noticed that AV had no overlap with metabolites. The source was the use of '_u' cocompartment in the model."
   ]
  },
  {
   "cell_type": "code",
   "execution_count": 79,
   "metadata": {
    "pycharm": {
     "name": "#%%\n"
    }
   },
   "outputs": [
    {
     "data": {
      "image/png": "[encoded data removed]",
      "text/plain": [
       "<Figure size 432x288 with 1 Axes>"
      ]
     },
     "metadata": {},
     "output_type": "display_data"
    }
   ],
   "source": [
    "av_all = [i.id.rstrip('_u') for i in av.metabolites]\n",
    "syn_all = [i.id for i in syn.metabolites]\n",
    "rt_all = [i.id for i in rt.metabolites]\n",
    "create_venn3(av_all, syn_all, rt_all, 'AV', 'SYN', 'RT');"
   ]
  },
  {
   "cell_type": "markdown",
   "metadata": {
    "pycharm": {
     "name": "#%%\n"
    }
   },
   "source": [
    "We are interesting in metabolites that are imported/exported between the organisms."
   ]
  },
  {
   "cell_type": "code",
   "execution_count": 21,
   "metadata": {
    "pycharm": {
     "name": "#%%\n"
    }
   },
   "outputs": [
    {
     "data": {
      "image/png": "[encoded data removed]",
      "text/plain": [
       "<Figure size 432x288 with 1 Axes>"
      ]
     },
     "metadata": {},
     "output_type": "display_data"
    }
   ],
   "source": [
    "# comparing IDs\n",
    "# compartment _e == extra_cellular\n",
    "av_m = [i.id.rstrip('_u') for i in av.metabolites \n",
    "        if i.id.endswith('e_u')]\n",
    "syn_m = [i.id for i in syn.metabolites if i.compartment == 'e']\n",
    "rt_m = [i.id for i in rt.metabolites if i.compartment == 'e']\n",
    "create_venn3(av_m, syn_m, rt_m, 'AV', 'SYN', 'RT');"
   ]
  },
  {
   "cell_type": "code",
   "execution_count": 71,
   "metadata": {
    "pycharm": {
     "name": "#%%\n"
    }
   },
   "outputs": [
    {
     "name": "stdout",
     "output_type": "stream",
     "text": [
      "photon410_e\n",
      "photon550_e\n",
      "photon450_e\n",
      "photon490_e\n",
      "leu__L_e\n",
      "colipacy_e\n",
      "photon470_e\n",
      "photon630_e\n",
      "photon690_e\n",
      "photon650_e\n",
      "photon610_e\n",
      "photon530_e\n",
      "photon570_e\n",
      "photon590_e\n",
      "photon670_e\n",
      "photon510_e\n",
      "arg__L_e\n",
      "photon430_e\n",
      "hco3_e\n",
      "ptrc_e\n"
     ]
    }
   ],
   "source": [
    "for i in set(syn_m).difference(av_m):\n",
    "    print(i)"
   ]
  },
  {
   "cell_type": "code",
   "execution_count": 70,
   "metadata": {
    "pycharm": {
     "name": "#%%\n"
    }
   },
   "outputs": [
    {
     "data": {
      "text/plain": [
       "[]"
      ]
     },
     "execution_count": 70,
     "metadata": {},
     "output_type": "execute_result"
    }
   ],
   "source": [
    "[i for i in syn_m if 'hist' in i]"
   ]
  },
  {
   "cell_type": "code",
   "execution_count": 68,
   "metadata": {
    "pycharm": {
     "name": "#%%\n"
    }
   },
   "outputs": [],
   "source": [
    "unique_to_rt = set(rt_m).difference(syn_m).difference(av_m)\n",
    "\n",
    "unique_to_syn = set(syn_m).difference(rt_m).difference(av_m)\n",
    "\n",
    "unique_to_av = set(av_m).difference(rt_m).difference(syn_m)"
   ]
  },
  {
   "cell_type": "code",
   "execution_count": 24,
   "metadata": {
    "pycharm": {
     "name": "#%%\n"
    }
   },
   "outputs": [
    {
     "name": "stdout",
     "output_type": "stream",
     "text": [
      "193\n",
      "123\n",
      "16\n"
     ]
    }
   ],
   "source": [
    "for i in [unique_to_av, unique_to_rt, unique_to_syn]:\n",
    "    print(len(i))"
   ]
  },
  {
   "cell_type": "code",
   "execution_count": 32,
   "metadata": {
    "pycharm": {
     "name": "#%%\n"
    }
   },
   "outputs": [
    {
     "name": "stdout",
     "output_type": "stream",
     "text": [
      "photon650_e\n",
      "photon550_e\n",
      "photon410_e\n",
      "photon610_e\n",
      "photon530_e\n",
      "photon450_e\n",
      "photon570_e\n",
      "photon590_e\n",
      "photon490_e\n",
      "photon670_e\n",
      "photon510_e\n",
      "colipacy_e\n",
      "photon470_e\n",
      "photon430_e\n",
      "photon630_e\n",
      "photon690_e\n"
     ]
    }
   ],
   "source": [
    "for i in unique_to_syn:\n",
    "    print(i)"
   ]
  },
  {
   "cell_type": "markdown",
   "metadata": {
    "pycharm": {
     "name": "#%%\n"
    }
   },
   "source": [
    "### Find metabolites that 'could' be missing from models"
   ]
  },
  {
   "cell_type": "code",
   "execution_count": null,
   "metadata": {
    "pycharm": {
     "name": "#%%\n"
    }
   },
   "outputs": [],
   "source": [
    "def check_metab_in_org(to_inspect, organism_background):\n",
    "    background_core = [i.rsplit('_', 1)[0] for i in organism_background]\n",
    "    found_in_org = set()\n",
    "    for met in to_inspect:\n",
    "        met_core = met.rsplit('_', 1)[0]\n",
    "        if met_core in background_core:\n",
    "            found_in_org.add(met_core)\n",
    "    return found_in_org"
   ]
  },
  {
   "cell_type": "code",
   "execution_count": 80,
   "metadata": {
    "pycharm": {
     "name": "#%%\n"
    }
   },
   "outputs": [
    {
     "data": {
      "text/plain": [
       "{'arg__L', 'hco3', 'leu__L', 'ptrc'}"
      ]
     },
     "execution_count": 80,
     "metadata": {},
     "output_type": "execute_result"
    }
   ],
   "source": [
    "check_metab_in_org(set(syn_m).difference(av_m), av_all)"
   ]
  },
  {
   "cell_type": "code",
   "execution_count": 83,
   "metadata": {
    "pycharm": {
     "name": "#%%\n"
    }
   },
   "outputs": [
    {
     "data": {
      "text/plain": [
       "{'2dglc',\n",
       " '34dhpac',\n",
       " '3hcinnm',\n",
       " '3hpp',\n",
       " '3hpppn',\n",
       " '4hoxpacd',\n",
       " '4hphac',\n",
       " 'acald',\n",
       " 'acgam1p',\n",
       " 'acon_C',\n",
       " 'acser',\n",
       " 'ascb__L',\n",
       " 'crn',\n",
       " 'cyan',\n",
       " 'cynt',\n",
       " 'damp',\n",
       " 'dcmp',\n",
       " 'dcyt',\n",
       " 'dgmp',\n",
       " 'dgsn',\n",
       " 'dimp',\n",
       " 'dopa',\n",
       " 'dump',\n",
       " 'duri',\n",
       " 'etoh',\n",
       " 'fad',\n",
       " 'fald',\n",
       " 'g3pg',\n",
       " 'g3ps',\n",
       " 'gal1p',\n",
       " 'gbbtn',\n",
       " 'gdp',\n",
       " 'glyald',\n",
       " 'gthox',\n",
       " 'gtp',\n",
       " 'h2s',\n",
       " 'hxan',\n",
       " 'imp',\n",
       " 'indole',\n",
       " 'lipoate',\n",
       " 'malthx',\n",
       " 'maltpt',\n",
       " 'maltttr',\n",
       " 'mmet',\n",
       " 'mobd',\n",
       " 'nmn',\n",
       " 'o2s',\n",
       " 'octa',\n",
       " 'orot',\n",
       " 'pacald',\n",
       " 'pheme',\n",
       " 'phenol',\n",
       " 'ppal',\n",
       " 'progly',\n",
       " 'psuri',\n",
       " 'pydam',\n",
       " 'pydx',\n",
       " 'r5p',\n",
       " 'sel',\n",
       " 'skm',\n",
       " 'tcynt',\n",
       " 'ttdcea',\n",
       " 'tungs',\n",
       " 'uacgam',\n",
       " 'udcpp',\n",
       " 'udpacgal',\n",
       " 'udpg',\n",
       " 'udpgal',\n",
       " 'udpglcur',\n",
       " 'xmp',\n",
       " 'xylu__L'}"
      ]
     },
     "execution_count": 83,
     "metadata": {},
     "output_type": "execute_result"
    }
   ],
   "source": [
    "check_metab_in_org(set(av_m).difference(rt_m), rt_all)"
   ]
  },
  {
   "cell_type": "code",
   "execution_count": 82,
   "metadata": {
    "pycharm": {
     "name": "#%%\n"
    }
   },
   "outputs": [
    {
     "data": {
      "text/plain": [
       "{'cynt', 'mobd'}"
      ]
     },
     "execution_count": 82,
     "metadata": {},
     "output_type": "execute_result"
    }
   ],
   "source": [
    "check_metab_in_org(set(syn_m).difference(rt_m), rt_all)"
   ]
  },
  {
   "cell_type": "code",
   "execution_count": 65,
   "metadata": {
    "pycharm": {
     "name": "#%%\n"
    }
   },
   "outputs": [
    {
     "data": {
      "text/plain": [
       "set()"
      ]
     },
     "execution_count": 65,
     "metadata": {},
     "output_type": "execute_result"
    }
   ],
   "source": [
    "check_metab_in_org(set(syn_m).difference(rt_m), rt_m)"
   ]
  },
  {
   "cell_type": "code",
   "execution_count": 66,
   "metadata": {
    "pycharm": {
     "name": "#%%\n"
    }
   },
   "outputs": [
    {
     "data": {
      "text/plain": [
       "set()"
      ]
     },
     "execution_count": 66,
     "metadata": {},
     "output_type": "execute_result"
    }
   ],
   "source": [
    "check_metab_in_org(set(rt_m).difference(syn_m), syn_m)"
   ]
  },
  {
   "cell_type": "code",
   "execution_count": 50,
   "metadata": {
    "pycharm": {
     "name": "#%%\n"
    }
   },
   "outputs": [
    {
     "data": {
      "text/plain": [
       "set()"
      ]
     },
     "execution_count": 50,
     "metadata": {},
     "output_type": "execute_result"
    }
   ],
   "source": [
    "check_metab_in_org(unique_to_syn, av_m)"
   ]
  },
  {
   "cell_type": "code",
   "execution_count": 51,
   "metadata": {
    "pycharm": {
     "name": "#%%\n"
    }
   },
   "outputs": [
    {
     "data": {
      "text/plain": [
       "set()"
      ]
     },
     "execution_count": 51,
     "metadata": {},
     "output_type": "execute_result"
    }
   ],
   "source": [
    "check_metab_in_org(unique_to_syn, rt_m)"
   ]
  },
  {
   "cell_type": "code",
   "execution_count": 52,
   "metadata": {
    "pycharm": {
     "name": "#%%\n"
    }
   },
   "outputs": [
    {
     "data": {
      "text/plain": [
       "set()"
      ]
     },
     "execution_count": 52,
     "metadata": {},
     "output_type": "execute_result"
    }
   ],
   "source": [
    "check_metab_in_org(unique_to_rt, av_m)"
   ]
  },
  {
   "cell_type": "code",
   "execution_count": 53,
   "metadata": {
    "pycharm": {
     "name": "#%%\n"
    }
   },
   "outputs": [
    {
     "data": {
      "text/plain": [
       "set()"
      ]
     },
     "execution_count": 53,
     "metadata": {},
     "output_type": "execute_result"
    }
   ],
   "source": [
    "check_metab_in_org(unique_to_av, rt_m)"
   ]
  },
  {
   "cell_type": "markdown",
   "metadata": {
    "pycharm": {
     "name": "#%%\n"
    }
   },
   "source": [
    "### Explore code that could be useful below"
   ]
  },
  {
   "cell_type": "code",
   "execution_count": 29,
   "metadata": {
    "pycharm": {
     "name": "#%%\n"
    }
   },
   "outputs": [
    {
     "name": "stdout",
     "output_type": "stream",
     "text": [
      "EX_Lcyst_e: Lcyst_e --> \n",
      "LCYSTt: Lcyst_e + cl_e + 2.0 na1_e <=> Lcyst_c + cl_c + 2.0 na1_c\n"
     ]
    }
   ],
   "source": [
    "for r in rt.reactions:\n",
    "    if 'Lcyst_e' in set(m.id for m in r.metabolites):\n",
    "        print(r)"
   ]
  },
  {
   "cell_type": "code",
   "execution_count": 30,
   "metadata": {
    "pycharm": {
     "name": "#%%\n"
    }
   },
   "outputs": [
    {
     "name": "stdout",
     "output_type": "stream",
     "text": [
      "LEUTAi: 4mop_c_u + glu__L_c_u --> akg_c_u + leu__L_c_u\n",
      "LEUabcpp: atp_c_u + h2o_c_u + leu__L_p_u --> adp_c_u + h_c_u + leu__L_c_u + pi_c_u\n",
      "LEUt2rpp: h_p_u + leu__L_p_u --> h_c_u + leu__L_c_u\n",
      "BIOMASS_Av_DJ_core: 0.000223 10fthf_c_u + 2.6e-05 2fe2s_c_u + 0.000223 2ohph_c_u + 0.00026 4fe4s_c_u + 0.583020414344392 ala__L_c_u + 0.000223 amet_c_u + 0.4009934072884 arg__L_c_u + 0.126569944053473 asn__L_c_u + 0.267095137584612 asp__L_c_u + 75.55223 atp_c_u + 2e-06 btn_c_u + 0.005205 ca2_c_u + 0.005205 cl_c_u + 0.000576 coa_c_u + 2.5e-05 cobalt2_c_u + 0.133508 ctp_c_u + 0.000709 cu2_c_u + 0.0524198607691142 cys__L_c_u + 0.026166 datp_c_u + 0.027017 dctp_c_u + 0.027017 dgtp_c_u + 0.026166 dttp_c_u + 0.000223 fad_c_u + 0.006715 fe2_c_u + 0.007808 fe3_c_u + 0.194867292315076 gln__L_c_u + 0.31452909011218 glu__L_c_u + 0.429800509517426 gly_c_u + 0.215096 gtp_c_u + 70.028756 h2o_c_u + 0.116750318531968 his__L_c_u + 0.219621483067065 ile__L_c_u + 0.195193 k_c_u + 0.019456 kdo2lipid4_e_u + 0.613524776645025 leu__L_c_u + 0.140105014137193 lys__L_c_u + 0.102844696541777 met__L_c_u + 0.008675 mg2_c_u + 0.000223 mlthf_c_u + 0.000691 mn2_c_u + 7e-06 mobd_c_u + 0.013894 murein5px4p_p_u + 0.001831 nad_c_u + 0.000447 nadp_c_u + 0.013013 nh4_c_u + 0.000323 ni2_c_u + 0.063814 pe160_p_u + 0.075214 pe161_p_u + 0.177153587786053 phe__L_c_u + 0.000223 pheme_c_u + 0.261871017403191 pro__L_c_u + 0.000223 pydx5p_c_u + 0.000223 ribflv_c_u + 0.265626163955384 ser__L_c_u + 0.000223 sheme_c_u + 0.004338 so4_c_u + 9.8e-05 succoa_c_u + 0.000223 thf_c_u + 0.000223 thmpp_c_u + 0.217447799115707 thr__L_c_u + 0.0723932702277827 trp__L_c_u + 0.122159714666625 tyr__L_c_u + 5.5e-05 udcpdp_c_u + 0.144104 utp_c_u + 0.336897852966256 val__L_c_u + 0.000341 zn2_c_u --> 75.37723 adp_c_u + 75.37723 h_c_u + 75.37323 pi_c_u + 0.773903 ppi_c_u\n",
      "LEUTRS: atp_c_u + leu__L_c_u + trnaleu_c_u --> amp_c_u + leutrna_c_u + ppi_c_u\n",
      "LLEUDr: h2o_c_u + leu__L_c_u + nad_c_u <=> 4mop_c_u + h_c_u + nadh_c_u + nh4_c_u\n",
      "BIOMASS_Az_DJ_core_75p37M: 0.0001561 10fthf_c_u + 1.82e-05 2fe2s_c_u + 0.0001561 2ohph_c_u + 0.000182 4fe4s_c_u + 0.408114290041074 ala__L_c_u + 1.71428571428571 alg_e_u + 0.0001561 amet_c_u + 0.28069538510188 arg__L_c_u + 0.0885989608374314 asn__L_c_u + 0.186966596309228 asp__L_c_u + 75.55223 atp_c_u + 1.4e-06 btn_c_u + 0.0036435 ca2_c_u + 0.0036435 cl_c_u + 0.0004032 coa_c_u + 1.75e-05 cobalt2_c_u + 0.0934556 ctp_c_u + 0.0004963 cu2_c_u + 0.03669390253838 cys__L_c_u + 0.0183162 datp_c_u + 0.0189119 dctp_c_u + 0.0189119 dgtp_c_u + 0.0183162 dttp_c_u + 0.0001561 fad_c_u + 0.0047005 fe2_c_u + 0.0054656 fe3_c_u + 0.136407104620553 gln__L_c_u + 0.220170363078526 glu__L_c_u + 0.300860356662198 gly_c_u + 0.1505672 gtp_c_u + 70.028756 h2o_c_u + 0.0817252229723777 his__L_c_u + 0.153735038146945 ile__L_c_u + 0.1366351 k_c_u + 0.0136192 kdo2lipid4_e_u + 0.429467343651517 leu__L_c_u + 0.0980735098960348 lys__L_c_u + 0.0719912875792439 met__L_c_u + 0.0060725 mg2_c_u + 0.0001561 mlthf_c_u + 0.0004837 mn2_c_u + 4.9e-06 mobd_c_u + 0.0097258 murein5px4p_p_u + 0.0012817 nad_c_u + 0.0003129 nadp_c_u + 0.0091091 nh4_c_u + 0.0002261 ni2_c_u + 0.0446698 pe160_p_u + 0.0526498 pe161_p_u + 0.124007511450237 phe__L_c_u + 0.0001561 pheme_c_u + 0.183309712182234 pro__L_c_u + 0.0001561 pydx5p_c_u + 0.0001561 ribflv_c_u + 0.185938314768769 ser__L_c_u + 0.0001561 sheme_c_u + 0.0030366 so4_c_u + 6.86e-05 succoa_c_u + 0.0001561 thf_c_u + 0.0001561 thmpp_c_u + 0.152213459380995 thr__L_c_u + 0.0506752891594478 trp__L_c_u + 0.0855118002666374 tyr__L_c_u + 3.85e-05 udcpdp_c_u + 0.1008728 utp_c_u + 0.235828497076379 val__L_c_u + 0.0002387 zn2_c_u --> 75.37723 adp_c_u + 75.37723 h_c_u + 52.761261 pi_c_u + 0.773903 ppi_c_u\n"
     ]
    }
   ],
   "source": [
    "for r in av.reactions:\n",
    "    if 'leu__L_c_u' in set(m.id for m in r.metabolites):\n",
    "        print(r)"
   ]
  },
  {
   "cell_type": "code",
   "execution_count": 31,
   "metadata": {
    "pycharm": {
     "name": "#%%\n"
    }
   },
   "outputs": [
    {
     "name": "stdout",
     "output_type": "stream",
     "text": [
      "LCYSTt: Lcyst_e + cl_e + 2.0 na1_e <=> Lcyst_c + cl_c + 2.0 na1_c\n",
      "EX_Lcyst_e: Lcyst_e --> \n"
     ]
    }
   ],
   "source": [
    "for r in rt.metabolites.Lcyst_e.reactions:\n",
    "    print(r)"
   ]
  },
  {
   "cell_type": "code",
   "execution_count": 32,
   "metadata": {
    "pycharm": {
     "name": "#%%\n"
    }
   },
   "outputs": [
    {
     "data": {
      "text/plain": [
       "{'_id': '2pg_c_u',\n",
       " 'name': 'D-Glycerate 2-phosphate',\n",
       " 'notes': {},\n",
       " '_annotation': {'sbo': 'SBO:0000240'},\n",
       " '_model': <Model COBRAModel at 0x2031f945b08>,\n",
       " '_reaction': {<Reaction ENO at 0x20329c54588>,\n",
       "  <Reaction GLYCK2 at 0x20329eee688>,\n",
       "  <Reaction PGM at 0x2032a817f88>},\n",
       " 'formula': 'C3H4O7P',\n",
       " 'compartment': 'u',\n",
       " 'charge': 0,\n",
       " '_bound': 0.0}"
      ]
     },
     "execution_count": 32,
     "metadata": {},
     "output_type": "execute_result"
    }
   ],
   "source": [
    "vars(av.metabolites[0])"
   ]
  }
 ],
 "metadata": {
  "kernelspec": {
   "display_name": "Python 3 (ipykernel)",
   "language": "python",
   "name": "python3"
  },
  "language_info": {
   "codemirror_mode": {
    "name": "ipython",
    "version": 3
   },
   "file_extension": ".py",
   "mimetype": "text/x-python",
   "name": "python",
   "nbconvert_exporter": "python",
   "pygments_lexer": "ipython3",
   "version": "3.10.6"
  }
 },
 "nbformat": 4,
 "nbformat_minor": 1
}
