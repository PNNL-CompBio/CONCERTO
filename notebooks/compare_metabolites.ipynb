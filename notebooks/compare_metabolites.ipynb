{
 "cells": [
  {
   "cell_type": "code",
   "execution_count": null,
   "metadata": {
    "pycharm": {
     "name": "#%%\n"
    }
   },
   "outputs": [],
   "source": [
    "from magine.plotting.venn_diagram_maker import create_venn3"
   ]
  },
  {
   "cell_type": "code",
   "execution_count": null,
   "metadata": {
    "pycharm": {
     "name": "#%%\n"
    }
   },
   "outputs": [],
   "source": [
    "from concerto.helpers.load_model_from_git import load_model_from_git\n",
    "\n",
    "av = load_model_from_git('Azotobacter')\n",
    "syn = load_model_from_git('Synechococcus')\n",
    "rt = load_model_from_git('Rhodosporidium')"
   ]
  },
  {
   "cell_type": "code",
   "execution_count": null,
   "metadata": {
    "pycharm": {
     "name": "#%%\n"
    }
   },
   "outputs": [],
   "source": [
    "# compare all metabolites across the three models\n",
    "av_all= [i.id for i in av.metabolites]\n",
    "syn_all = [i.id for i in syn.metabolites]\n",
    "rt_all = [i.id for i in rt.metabolites]\n",
    "create_venn3(av_all, syn_all, rt_all, 'AV', 'SYN', 'RT');"
   ]
  },
  {
   "cell_type": "markdown",
   "source": [
    "We are interested in metabolites that are imported/exported between the organisms."
   ],
   "metadata": {
    "collapsed": false,
    "pycharm": {
     "name": "#%% md\n"
    }
   }
  },
  {
   "cell_type": "code",
   "execution_count": null,
   "metadata": {
    "pycharm": {
     "name": "#%%\n"
    }
   },
   "outputs": [],
   "source": [
    "# comparing IDs\n",
    "# compartment _e == extra_cellular\n",
    "av_m = [i.id for i in av.metabolites if i.compartment == 'e']\n",
    "syn_m = [i.id for i in syn.metabolites if i.compartment == 'e']\n",
    "rt_m = [i.id for i in rt.metabolites if i.compartment == 'e']\n",
    "create_venn3(av_m, syn_m, rt_m, 'AV', 'SYN', 'RT');"
   ]
  },
  {
   "cell_type": "code",
   "execution_count": null,
   "metadata": {
    "pycharm": {
     "name": "#%%\n"
    }
   },
   "outputs": [],
   "source": [
    "for i in set(syn_m).difference(av_m):\n",
    "    print(i)"
   ]
  },
  {
   "cell_type": "code",
   "execution_count": null,
   "metadata": {
    "pycharm": {
     "name": "#%%\n"
    }
   },
   "outputs": [],
   "source": [
    "unique_to_rt = set(rt_m).difference(syn_m).difference(av_m)\n",
    "\n",
    "unique_to_syn = set(syn_m).difference(rt_m).difference(av_m)\n",
    "\n",
    "unique_to_av = set(av_m).difference(rt_m).difference(syn_m)"
   ]
  },
  {
   "cell_type": "code",
   "execution_count": null,
   "metadata": {
    "pycharm": {
     "name": "#%%\n"
    }
   },
   "outputs": [],
   "source": [
    "for i in [unique_to_av, unique_to_rt, unique_to_syn]:\n",
    "    print(len(i))"
   ]
  },
  {
   "cell_type": "code",
   "execution_count": null,
   "metadata": {
    "pycharm": {
     "name": "#%%\n"
    }
   },
   "outputs": [],
   "source": [
    "for i in unique_to_syn:\n",
    "    print(i)"
   ]
  },
  {
   "cell_type": "code",
   "execution_count": null,
   "outputs": [],
   "source": [
    "### Find metabolites that 'could' be missing from models"
   ],
   "metadata": {
    "collapsed": false,
    "pycharm": {
     "name": "#%%\n"
    }
   }
  },
  {
   "cell_type": "code",
   "execution_count": null,
   "metadata": {
    "pycharm": {
     "name": "#%%\n"
    }
   },
   "outputs": [],
   "source": [
    "def check_metab_in_org(to_inspect, organism_background):\n",
    "    background_core = [i.rsplit('_', 1)[0] for i in organism_background]\n",
    "    found_in_org = set()\n",
    "    for met in to_inspect:\n",
    "        met_core = met.rsplit('_', 1)[0]\n",
    "        if met_core in background_core:\n",
    "            found_in_org.add(met_core)\n",
    "    return found_in_org"
   ]
  },
  {
   "cell_type": "code",
   "execution_count": null,
   "metadata": {
    "pycharm": {
     "name": "#%%\n"
    }
   },
   "outputs": [],
   "source": [
    "check_metab_in_org(set(syn_m).difference(av_m), av_all)"
   ]
  },
  {
   "cell_type": "code",
   "execution_count": null,
   "metadata": {
    "pycharm": {
     "name": "#%%\n"
    }
   },
   "outputs": [],
   "source": [
    "check_metab_in_org(set(av_m).difference(rt_m), rt_all)"
   ]
  },
  {
   "cell_type": "code",
   "execution_count": null,
   "metadata": {
    "pycharm": {
     "name": "#%%\n"
    }
   },
   "outputs": [],
   "source": [
    "check_metab_in_org(set(syn_m).difference(rt_m), rt_all)"
   ]
  },
  {
   "cell_type": "code",
   "execution_count": null,
   "metadata": {
    "pycharm": {
     "name": "#%%\n"
    }
   },
   "outputs": [],
   "source": [
    "check_metab_in_org(set(syn_m).difference(rt_m), rt_m)"
   ]
  },
  {
   "cell_type": "code",
   "execution_count": null,
   "metadata": {
    "pycharm": {
     "name": "#%%\n"
    }
   },
   "outputs": [],
   "source": [
    "check_metab_in_org(set(rt_m).difference(syn_m), syn_m)"
   ]
  },
  {
   "cell_type": "code",
   "execution_count": null,
   "metadata": {
    "pycharm": {
     "name": "#%%\n"
    }
   },
   "outputs": [],
   "source": [
    "check_metab_in_org(unique_to_syn, av_m)"
   ]
  },
  {
   "cell_type": "code",
   "execution_count": null,
   "metadata": {
    "pycharm": {
     "name": "#%%\n"
    }
   },
   "outputs": [],
   "source": [
    "check_metab_in_org(unique_to_syn, rt_m)"
   ]
  },
  {
   "cell_type": "code",
   "execution_count": null,
   "metadata": {
    "pycharm": {
     "name": "#%%\n"
    }
   },
   "outputs": [],
   "source": [
    "check_metab_in_org(unique_to_rt, av_m)"
   ]
  },
  {
   "cell_type": "code",
   "execution_count": null,
   "metadata": {
    "pycharm": {
     "name": "#%%\n"
    }
   },
   "outputs": [],
   "source": [
    "check_metab_in_org(unique_to_av, rt_m)"
   ]
  }
 ],
 "metadata": {
  "kernelspec": {
   "display_name": "Python 3 (ipykernel)",
   "language": "python",
   "name": "python3"
  },
  "language_info": {
   "codemirror_mode": {
    "name": "ipython",
    "version": 3
   },
   "file_extension": ".py",
   "mimetype": "text/x-python",
   "name": "python",
   "nbconvert_exporter": "python",
   "pygments_lexer": "ipython3",
   "version": "3.10.9"
  }
 },
 "nbformat": 4,
 "nbformat_minor": 1
}