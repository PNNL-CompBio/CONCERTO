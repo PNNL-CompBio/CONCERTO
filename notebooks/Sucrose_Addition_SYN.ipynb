{
 "cells": [
  {
   "cell_type": "markdown",
   "id": "93109e14",
   "metadata": {},
   "source": [
    "# Adding Sucrose Export Reactions to Synechococcus elongatus pcc 7942"
   ]
  },
  {
   "cell_type": "code",
   "execution_count": 1,
   "id": "fc2662e3",
   "metadata": {},
   "outputs": [],
   "source": [
    "import cobra\n",
    "import gurobipy\n",
    "import pandas as pd\n",
    "import os"
   ]
  },
  {
   "cell_type": "code",
   "execution_count": 2,
   "id": "3a4afc30",
   "metadata": {},
   "outputs": [
    {
     "data": {
      "text/plain": [
       "'/Users/mcna892/Desktop/Projects/Digital_Twins/gurobi.lic'"
      ]
     },
     "execution_count": 2,
     "metadata": {},
     "output_type": "execute_result"
    }
   ],
   "source": [
    "os.environ[\"GRB_LICENSE_FILE\"]"
   ]
  },
  {
   "cell_type": "markdown",
   "id": "0a4c7d24",
   "metadata": {},
   "source": [
    "## Load in the model and universal model"
   ]
  },
  {
   "cell_type": "code",
   "execution_count": 3,
   "id": "bfd4013a",
   "metadata": {},
   "outputs": [
    {
     "name": "stdout",
     "output_type": "stream",
     "text": [
      "Set parameter TokenServer to value \"leghorn.emsl.pnl.gov\"\n"
     ]
    }
   ],
   "source": [
    "model_syn = cobra.io.read_sbml_model('syn_elong.xml')\n",
    "universal_full = cobra.io.load_json_model('universal_model_cobrapy.json')"
   ]
  },
  {
   "cell_type": "markdown",
   "id": "0d4978e2",
   "metadata": {},
   "source": [
    "## Find Sucrose Extraction Reactions"
   ]
  },
  {
   "cell_type": "markdown",
   "id": "7464aa60",
   "metadata": {},
   "source": [
    "From the universal model we can find reactions that are involved in the transport of Sucrose `sucr` from the extracellular to cellular environment"
   ]
  },
  {
   "cell_type": "code",
   "execution_count": 6,
   "id": "0580da31",
   "metadata": {},
   "outputs": [
    {
     "data": {
      "text/html": [
       "\n",
       "        <table>\n",
       "            <tr>\n",
       "                <td><strong>Metabolite identifier</strong></td><td>sucr_e</td>\n",
       "            </tr><tr>\n",
       "                <td><strong>Name</strong></td><td>Sucrose C12H22O11</td>\n",
       "            </tr><tr>\n",
       "                <td><strong>Memory address</strong></td>\n",
       "                <td>0x2838c1180</td>\n",
       "            </tr><tr>\n",
       "                <td><strong>Formula</strong></td><td>None</td>\n",
       "            </tr><tr>\n",
       "                <td><strong>Compartment</strong></td><td>e</td>\n",
       "            </tr><tr>\n",
       "                <td><strong>In 6 reaction(s)</strong></td><td>\n",
       "                    SUCRt2, SUCpts, EX_sucr_e, SUCRtex, SUCRe, SUCRabc\n",
       "                    </td>\n",
       "            </tr>\n",
       "        </table>"
      ],
      "text/plain": [
       "<Metabolite sucr_e at 0x2838c1180>"
      ]
     },
     "execution_count": 6,
     "metadata": {},
     "output_type": "execute_result"
    }
   ],
   "source": [
    "universal_full.metabolites.sucr_e"
   ]
  },
  {
   "cell_type": "markdown",
   "id": "0f338da1",
   "metadata": {},
   "source": [
    "From here we can select one that represents known genetic additions. In this case we want to look at the `SUCRt2` reaction. It can be found as an addition made to the organism to export sucrose from Synechococcus [[citation](https://doi.org/10.1128/AEM.07901-11)]. We also want to ensure that we add the corresponding exchange reaction `EX_sucr_e` to the model so the FBA methods can run."
   ]
  },
  {
   "cell_type": "code",
   "execution_count": 4,
   "id": "792e9a8d",
   "metadata": {},
   "outputs": [],
   "source": [
    "sucr_exchange = universal_full.reactions.EX_sucr_e.copy()\n",
    "sucr_transport = universal_full.reactions.SUCRt2.copy()"
   ]
  },
  {
   "cell_type": "markdown",
   "id": "d425714a",
   "metadata": {},
   "source": [
    "If we look at the transport we can see that it only converts extracellular sucrose `sucr_e` to cellular sucrose `sucr_e` but not the other way around."
   ]
  },
  {
   "cell_type": "code",
   "execution_count": 5,
   "id": "7a247ffc",
   "metadata": {},
   "outputs": [
    {
     "data": {
      "text/html": [
       "\n",
       "        <table>\n",
       "            <tr>\n",
       "                <td><strong>Reaction identifier</strong></td><td>SUCRt2</td>\n",
       "            </tr><tr>\n",
       "                <td><strong>Name</strong></td><td>Sucrose transport in via proton symport</td>\n",
       "            </tr><tr>\n",
       "                <td><strong>Memory address</strong></td>\n",
       "                <td>0x28c25e3e0</td>\n",
       "            </tr><tr>\n",
       "                <td><strong>Stoichiometry</strong></td>\n",
       "                <td>\n",
       "                    <p style='text-align:right'>h_e + sucr_e --> h_c + sucr_c</p>\n",
       "                    <p style='text-align:right'>H+ + Sucrose C12H22O11 --> H+ + Sucrose C12H22O11</p>\n",
       "                </td>\n",
       "            </tr><tr>\n",
       "                <td><strong>GPR</strong></td><td></td>\n",
       "            </tr><tr>\n",
       "                <td><strong>Lower bound</strong></td><td>0.0</td>\n",
       "            </tr><tr>\n",
       "                <td><strong>Upper bound</strong></td><td>1000.0</td>\n",
       "            </tr>\n",
       "        </table>\n",
       "        "
      ],
      "text/plain": [
       "<Reaction SUCRt2 at 0x28c25e3e0>"
      ]
     },
     "execution_count": 5,
     "metadata": {},
     "output_type": "execute_result"
    }
   ],
   "source": [
    "sucr_transport"
   ]
  },
  {
   "cell_type": "markdown",
   "id": "1d607d7f",
   "metadata": {},
   "source": [
    "We know from the above citation that the added proton symport (cscB) does indeed serve to export `sucr_c` back to `sucr_e`, therefore we can edit the lower bound to create a reversible reaction."
   ]
  },
  {
   "cell_type": "code",
   "execution_count": 8,
   "id": "2320f065",
   "metadata": {},
   "outputs": [
    {
     "data": {
      "text/html": [
       "\n",
       "        <table>\n",
       "            <tr>\n",
       "                <td><strong>Reaction identifier</strong></td><td>SUCRt2</td>\n",
       "            </tr><tr>\n",
       "                <td><strong>Name</strong></td><td>Sucrose transport in via proton symport</td>\n",
       "            </tr><tr>\n",
       "                <td><strong>Memory address</strong></td>\n",
       "                <td>0x28c25e3e0</td>\n",
       "            </tr><tr>\n",
       "                <td><strong>Stoichiometry</strong></td>\n",
       "                <td>\n",
       "                    <p style='text-align:right'>h_e + sucr_e <=> h_c + sucr_c</p>\n",
       "                    <p style='text-align:right'>H+ + Sucrose C12H22O11 <=> H+ + Sucrose C12H22O11</p>\n",
       "                </td>\n",
       "            </tr><tr>\n",
       "                <td><strong>GPR</strong></td><td></td>\n",
       "            </tr><tr>\n",
       "                <td><strong>Lower bound</strong></td><td>-1000.0</td>\n",
       "            </tr><tr>\n",
       "                <td><strong>Upper bound</strong></td><td>1000.0</td>\n",
       "            </tr>\n",
       "        </table>\n",
       "        "
      ],
      "text/plain": [
       "<Reaction SUCRt2 at 0x28c25e3e0>"
      ]
     },
     "execution_count": 8,
     "metadata": {},
     "output_type": "execute_result"
    }
   ],
   "source": [
    "sucr_transport.lower_bound = -1000.0\n",
    "sucr_transport"
   ]
  },
  {
   "cell_type": "markdown",
   "id": "969b2d8b",
   "metadata": {},
   "source": [
    "Now the reaction is reveresible and we can add these reactions to `model_syn`."
   ]
  },
  {
   "cell_type": "code",
   "execution_count": 9,
   "id": "b861d3c4",
   "metadata": {},
   "outputs": [],
   "source": [
    "model_syn.add_reaction(sucr_exchange)\n",
    "model_syn.add_reaction(sucr_transport)"
   ]
  },
  {
   "cell_type": "markdown",
   "id": "09568811",
   "metadata": {},
   "source": [
    "Let's check the reactions to make sure they are added."
   ]
  },
  {
   "cell_type": "code",
   "execution_count": 10,
   "id": "47202c63",
   "metadata": {},
   "outputs": [
    {
     "data": {
      "text/html": [
       "\n",
       "        <table>\n",
       "            <tr>\n",
       "                <td><strong>Reaction identifier</strong></td><td>SUCRt2</td>\n",
       "            </tr><tr>\n",
       "                <td><strong>Name</strong></td><td>Sucrose transport in via proton symport</td>\n",
       "            </tr><tr>\n",
       "                <td><strong>Memory address</strong></td>\n",
       "                <td>0x28c25e3e0</td>\n",
       "            </tr><tr>\n",
       "                <td><strong>Stoichiometry</strong></td>\n",
       "                <td>\n",
       "                    <p style='text-align:right'>h_e + sucr_e <=> h_c + sucr_c</p>\n",
       "                    <p style='text-align:right'>H+ + Sucrose C12H22O11 <=> H+ + Sucrose C12H22O11</p>\n",
       "                </td>\n",
       "            </tr><tr>\n",
       "                <td><strong>GPR</strong></td><td></td>\n",
       "            </tr><tr>\n",
       "                <td><strong>Lower bound</strong></td><td>-1000.0</td>\n",
       "            </tr><tr>\n",
       "                <td><strong>Upper bound</strong></td><td>1000.0</td>\n",
       "            </tr>\n",
       "        </table>\n",
       "        "
      ],
      "text/plain": [
       "<Reaction SUCRt2 at 0x28c25e3e0>"
      ]
     },
     "execution_count": 10,
     "metadata": {},
     "output_type": "execute_result"
    }
   ],
   "source": [
    "model_syn.reactions.SUCRt2"
   ]
  },
  {
   "cell_type": "code",
   "execution_count": 11,
   "id": "b51288ed",
   "metadata": {},
   "outputs": [
    {
     "data": {
      "text/html": [
       "\n",
       "        <table>\n",
       "            <tr>\n",
       "                <td><strong>Reaction identifier</strong></td><td>EX_sucr_e</td>\n",
       "            </tr><tr>\n",
       "                <td><strong>Name</strong></td><td>Sucrose exchange</td>\n",
       "            </tr><tr>\n",
       "                <td><strong>Memory address</strong></td>\n",
       "                <td>0x28c25e3b0</td>\n",
       "            </tr><tr>\n",
       "                <td><strong>Stoichiometry</strong></td>\n",
       "                <td>\n",
       "                    <p style='text-align:right'>sucr_e --></p>\n",
       "                    <p style='text-align:right'>Sucrose C12H22O11 --></p>\n",
       "                </td>\n",
       "            </tr><tr>\n",
       "                <td><strong>GPR</strong></td><td></td>\n",
       "            </tr><tr>\n",
       "                <td><strong>Lower bound</strong></td><td>0.0</td>\n",
       "            </tr><tr>\n",
       "                <td><strong>Upper bound</strong></td><td>1000.0</td>\n",
       "            </tr>\n",
       "        </table>\n",
       "        "
      ],
      "text/plain": [
       "<Reaction EX_sucr_e at 0x28c25e3b0>"
      ]
     },
     "execution_count": 11,
     "metadata": {},
     "output_type": "execute_result"
    }
   ],
   "source": [
    "model_syn.reactions.EX_sucr_e"
   ]
  },
  {
   "cell_type": "markdown",
   "id": "1e9315e1",
   "metadata": {},
   "source": [
    "## Checking if Sucrose is Exported"
   ]
  },
  {
   "cell_type": "markdown",
   "id": "665e3e7d",
   "metadata": {},
   "source": [
    "Now that we have added the reactions, we can optimize it and check to see if it now secretes __Sucrose__."
   ]
  },
  {
   "cell_type": "code",
   "execution_count": 14,
   "id": "bfeb78e9",
   "metadata": {},
   "outputs": [
    {
     "data": {
      "text/plain": [
       "flux                0.0\n",
       "reaction      EX_sucr_e\n",
       "metabolite       sucr_e\n",
       "Name: EX_sucr_e, dtype: object"
      ]
     },
     "execution_count": 14,
     "metadata": {},
     "output_type": "execute_result"
    }
   ],
   "source": [
    "model_syn.summary().secretion_flux.loc['EX_sucr_e']"
   ]
  },
  {
   "cell_type": "markdown",
   "id": "c7ccb987",
   "metadata": {},
   "source": [
    "Here we can see that there is 0 flux going through the model during optimization. Let us see what happens when we shift the objective function to optimze specifically the Exchange reaction."
   ]
  },
  {
   "cell_type": "code",
   "execution_count": 16,
   "id": "cf8a4576",
   "metadata": {},
   "outputs": [
    {
     "data": {
      "text/plain": [
       "flux          -0.331667\n",
       "reaction      EX_sucr_e\n",
       "metabolite       sucr_e\n",
       "Name: EX_sucr_e, dtype: object"
      ]
     },
     "execution_count": 16,
     "metadata": {},
     "output_type": "execute_result"
    }
   ],
   "source": [
    "model_syn.objective = 'EX_sucr_e'\n",
    "model_syn.summary().secretion_flux.loc['EX_sucr_e']"
   ]
  },
  {
   "cell_type": "markdown",
   "id": "cac486d8",
   "metadata": {},
   "source": [
    "Great! Now we can see that sucrose is being secreted from the cell. Let's look at the full summary."
   ]
  },
  {
   "cell_type": "code",
   "execution_count": 18,
   "id": "b5c54c73",
   "metadata": {},
   "outputs": [
    {
     "data": {
      "text/html": [
       "<h3>Objective</h3><p>1.0 EX_sucr_e = 0.33166666666666633</p><h4>Uptake</h4><table border=\"1\" class=\"dataframe\">\n",
       "  <thead>\n",
       "    <tr style=\"text-align: right;\">\n",
       "      <th>Metabolite</th>\n",
       "      <th>Reaction</th>\n",
       "      <th>Flux</th>\n",
       "      <th>C-Number</th>\n",
       "      <th>C-Flux</th>\n",
       "    </tr>\n",
       "  </thead>\n",
       "  <tbody>\n",
       "    <tr>\n",
       "      <td>co2_e</td>\n",
       "      <td>EX_co2_e</td>\n",
       "      <td>1.99</td>\n",
       "      <td>1</td>\n",
       "      <td>50.00%</td>\n",
       "    </tr>\n",
       "    <tr>\n",
       "      <td>h2o_e</td>\n",
       "      <td>EX_h2o_e</td>\n",
       "      <td>1.659</td>\n",
       "      <td>0</td>\n",
       "      <td>0.00%</td>\n",
       "    </tr>\n",
       "    <tr>\n",
       "      <td>h_e</td>\n",
       "      <td>EX_h_e</td>\n",
       "      <td>1.988</td>\n",
       "      <td>0</td>\n",
       "      <td>0.00%</td>\n",
       "    </tr>\n",
       "    <tr>\n",
       "      <td>hco3_e</td>\n",
       "      <td>EX_hco3_e</td>\n",
       "      <td>1.99</td>\n",
       "      <td>1</td>\n",
       "      <td>50.00%</td>\n",
       "    </tr>\n",
       "    <tr>\n",
       "      <td>photon670_e</td>\n",
       "      <td>EX_photon670_e</td>\n",
       "      <td>14.77</td>\n",
       "      <td>0</td>\n",
       "      <td>0.00%</td>\n",
       "    </tr>\n",
       "    <tr>\n",
       "      <td>photon690_e</td>\n",
       "      <td>EX_photon690_e</td>\n",
       "      <td>22.56</td>\n",
       "      <td>0</td>\n",
       "      <td>0.00%</td>\n",
       "    </tr>\n",
       "  </tbody>\n",
       "</table><h4>Secretion</h4><table border=\"1\" class=\"dataframe\">\n",
       "  <thead>\n",
       "    <tr style=\"text-align: right;\">\n",
       "      <th>Metabolite</th>\n",
       "      <th>Reaction</th>\n",
       "      <th>Flux</th>\n",
       "      <th>C-Number</th>\n",
       "      <th>C-Flux</th>\n",
       "    </tr>\n",
       "  </thead>\n",
       "  <tbody>\n",
       "    <tr>\n",
       "      <td>pho_loss_c</td>\n",
       "      <td>DM_pho_loss_c</td>\n",
       "      <td>-0.7384</td>\n",
       "      <td>0</td>\n",
       "      <td>0.00%</td>\n",
       "    </tr>\n",
       "    <tr>\n",
       "      <td>o2_e</td>\n",
       "      <td>EX_o2_e</td>\n",
       "      <td>-3.98</td>\n",
       "      <td>0</td>\n",
       "      <td>0.00%</td>\n",
       "    </tr>\n",
       "    <tr>\n",
       "      <td>sucr_e</td>\n",
       "      <td>EX_sucr_e</td>\n",
       "      <td>-0.3317</td>\n",
       "      <td>0</td>\n",
       "      <td>0.00%</td>\n",
       "    </tr>\n",
       "  </tbody>\n",
       "</table>"
      ],
      "text/plain": [
       "<cobra.summary.model_summary.ModelSummary at 0x2849483d0>"
      ]
     },
     "execution_count": 18,
     "metadata": {},
     "output_type": "execute_result"
    }
   ],
   "source": [
    "model_syn.summary()"
   ]
  },
  {
   "cell_type": "markdown",
   "id": "73a9a897",
   "metadata": {},
   "source": [
    "Based on experimental evidence, we know that sucrose should be excreted from the cell. Since it is not under normal optimization but all the pathways are connected when optimizing the exchange directly, we can simply enforce a minimum flux by setting the reactions lower bound."
   ]
  },
  {
   "cell_type": "code",
   "execution_count": 20,
   "id": "2d60a643",
   "metadata": {},
   "outputs": [],
   "source": [
    "model_syn.reactions.EX_sucr_e.lower_bound = 0.011"
   ]
  },
  {
   "cell_type": "markdown",
   "id": "654c8501",
   "metadata": {},
   "source": [
    "Now that we have set the lower bound, we can change the objective back to the `BIOMASS_1` reaction and check the summary again."
   ]
  },
  {
   "cell_type": "code",
   "execution_count": 22,
   "id": "6b7c829f",
   "metadata": {},
   "outputs": [
    {
     "data": {
      "text/html": [
       "<h3>Objective</h3><p>1.0 BIOMASS__1 = 0.05390186774577897</p><h4>Uptake</h4><table border=\"1\" class=\"dataframe\">\n",
       "  <thead>\n",
       "    <tr style=\"text-align: right;\">\n",
       "      <th>Metabolite</th>\n",
       "      <th>Reaction</th>\n",
       "      <th>Flux</th>\n",
       "      <th>C-Number</th>\n",
       "      <th>C-Flux</th>\n",
       "    </tr>\n",
       "  </thead>\n",
       "  <tbody>\n",
       "    <tr>\n",
       "      <td>co2_e</td>\n",
       "      <td>EX_co2_e</td>\n",
       "      <td>0.73</td>\n",
       "      <td>1</td>\n",
       "      <td>29.48%</td>\n",
       "    </tr>\n",
       "    <tr>\n",
       "      <td>cobalt2_e</td>\n",
       "      <td>EX_cobalt2_e</td>\n",
       "      <td>2.758E-07</td>\n",
       "      <td>0</td>\n",
       "      <td>0.00%</td>\n",
       "    </tr>\n",
       "    <tr>\n",
       "      <td>fe3_e</td>\n",
       "      <td>EX_fe3_e</td>\n",
       "      <td>8.635E-05</td>\n",
       "      <td>0</td>\n",
       "      <td>0.00%</td>\n",
       "    </tr>\n",
       "    <tr>\n",
       "      <td>h_e</td>\n",
       "      <td>EX_h_e</td>\n",
       "      <td>2.003</td>\n",
       "      <td>0</td>\n",
       "      <td>0.00%</td>\n",
       "    </tr>\n",
       "    <tr>\n",
       "      <td>hco3_e</td>\n",
       "      <td>EX_hco3_e</td>\n",
       "      <td>1.576</td>\n",
       "      <td>1</td>\n",
       "      <td>63.65%</td>\n",
       "    </tr>\n",
       "    <tr>\n",
       "      <td>leu__L_e</td>\n",
       "      <td>EX_leu__L_e</td>\n",
       "      <td>0.02836</td>\n",
       "      <td>6</td>\n",
       "      <td>6.87%</td>\n",
       "    </tr>\n",
       "    <tr>\n",
       "      <td>mg2_e</td>\n",
       "      <td>EX_mg2_e</td>\n",
       "      <td>0.0006043</td>\n",
       "      <td>0</td>\n",
       "      <td>0.00%</td>\n",
       "    </tr>\n",
       "    <tr>\n",
       "      <td>nh4_e</td>\n",
       "      <td>EX_nh4_e</td>\n",
       "      <td>0.0031</td>\n",
       "      <td>0</td>\n",
       "      <td>0.00%</td>\n",
       "    </tr>\n",
       "    <tr>\n",
       "      <td>no3_e</td>\n",
       "      <td>EX_no3_e</td>\n",
       "      <td>0.4029</td>\n",
       "      <td>0</td>\n",
       "      <td>0.00%</td>\n",
       "    </tr>\n",
       "    <tr>\n",
       "      <td>photon630_e</td>\n",
       "      <td>EX_photon630_e</td>\n",
       "      <td>12.19</td>\n",
       "      <td>0</td>\n",
       "      <td>0.00%</td>\n",
       "    </tr>\n",
       "    <tr>\n",
       "      <td>photon650_e</td>\n",
       "      <td>EX_photon650_e</td>\n",
       "      <td>0.0006043</td>\n",
       "      <td>0</td>\n",
       "      <td>0.00%</td>\n",
       "    </tr>\n",
       "    <tr>\n",
       "      <td>photon690_e</td>\n",
       "      <td>EX_photon690_e</td>\n",
       "      <td>18.93</td>\n",
       "      <td>0</td>\n",
       "      <td>0.00%</td>\n",
       "    </tr>\n",
       "    <tr>\n",
       "      <td>pi_e</td>\n",
       "      <td>EX_pi_e</td>\n",
       "      <td>0.023</td>\n",
       "      <td>0</td>\n",
       "      <td>0.00%</td>\n",
       "    </tr>\n",
       "    <tr>\n",
       "      <td>so4_e</td>\n",
       "      <td>EX_so4_e</td>\n",
       "      <td>0.008394</td>\n",
       "      <td>0</td>\n",
       "      <td>0.00%</td>\n",
       "    </tr>\n",
       "    <tr>\n",
       "      <td>amylose_c</td>\n",
       "      <td>SK_amylose_c</td>\n",
       "      <td>0.02769</td>\n",
       "      <td>0</td>\n",
       "      <td>0.00%</td>\n",
       "    </tr>\n",
       "  </tbody>\n",
       "</table><h4>Secretion</h4><table border=\"1\" class=\"dataframe\">\n",
       "  <thead>\n",
       "    <tr style=\"text-align: right;\">\n",
       "      <th>Metabolite</th>\n",
       "      <th>Reaction</th>\n",
       "      <th>Flux</th>\n",
       "      <th>C-Number</th>\n",
       "      <th>C-Flux</th>\n",
       "    </tr>\n",
       "  </thead>\n",
       "  <tbody>\n",
       "    <tr>\n",
       "      <td>5drib_c</td>\n",
       "      <td>DM_5drib_c</td>\n",
       "      <td>-5.6E-06</td>\n",
       "      <td>5</td>\n",
       "      <td>26.10%</td>\n",
       "    </tr>\n",
       "    <tr>\n",
       "      <td>amob_c</td>\n",
       "      <td>DM_amob_c</td>\n",
       "      <td>-1.411E-06</td>\n",
       "      <td>15</td>\n",
       "      <td>19.73%</td>\n",
       "    </tr>\n",
       "    <tr>\n",
       "      <td>co_c</td>\n",
       "      <td>DM_co_c</td>\n",
       "      <td>-5.701E-05</td>\n",
       "      <td>1</td>\n",
       "      <td>53.14%</td>\n",
       "    </tr>\n",
       "    <tr>\n",
       "      <td>dialurate_c</td>\n",
       "      <td>DM_dialurate_c</td>\n",
       "      <td>-2.758E-07</td>\n",
       "      <td>4</td>\n",
       "      <td>1.03%</td>\n",
       "    </tr>\n",
       "    <tr>\n",
       "      <td>pho_loss_c</td>\n",
       "      <td>DM_pho_loss_c</td>\n",
       "      <td>-0.6094</td>\n",
       "      <td>0</td>\n",
       "      <td>0.00%</td>\n",
       "    </tr>\n",
       "    <tr>\n",
       "      <td>o2_e</td>\n",
       "      <td>EX_o2_e</td>\n",
       "      <td>-3.283</td>\n",
       "      <td>0</td>\n",
       "      <td>0.00%</td>\n",
       "    </tr>\n",
       "    <tr>\n",
       "      <td>sucr_e</td>\n",
       "      <td>EX_sucr_e</td>\n",
       "      <td>-0.011</td>\n",
       "      <td>0</td>\n",
       "      <td>0.00%</td>\n",
       "    </tr>\n",
       "  </tbody>\n",
       "</table>"
      ],
      "text/plain": [
       "<cobra.summary.model_summary.ModelSummary at 0x284965510>"
      ]
     },
     "execution_count": 22,
     "metadata": {},
     "output_type": "execute_result"
    }
   ],
   "source": [
    "model_syn.objective = 'BIOMASS__1'\n",
    "model_syn.summary()"
   ]
  },
  {
   "cell_type": "markdown",
   "id": "6739e0af",
   "metadata": {},
   "source": [
    "We now have `sucr_e` under the sectretion fluxes while optimizing for the `BIOMASS__1` reaction. This means that the model is growing as well as exporting sucrose under normal conditions."
   ]
  },
  {
   "cell_type": "markdown",
   "id": "f0908945",
   "metadata": {},
   "source": [
    "## Setting the Names of the Genes"
   ]
  },
  {
   "cell_type": "markdown",
   "id": "6ca8f436",
   "metadata": {},
   "source": [
    "Now that we have added 2 additional reactions, we can assign them gene names. Since `EX_sucr_e` is not associated with a gene, we do not need to add one. For `SUCRt2`, we know that this is associated with the E. Coli gene `cscB`. We can go out and pull relevant information regarding this from the literature. We can find that the gene id is listed as `ATCC 700927`. Therefore we can create a cobra gene object to add to the model."
   ]
  },
  {
   "cell_type": "code",
   "execution_count": 41,
   "id": "a1faf30f",
   "metadata": {},
   "outputs": [
    {
     "data": {
      "text/html": [
       "\n",
       "        <table>\n",
       "            <tr>\n",
       "                <td><strong>Gene identifier</strong></td><td>ATCC_700927</td>\n",
       "            </tr><tr>\n",
       "                <td><strong>Name</strong></td><td>ATCC_700927</td>\n",
       "            </tr><tr>\n",
       "                <td><strong>Memory address</strong></td>\n",
       "                <td>0x28628c220</td>\n",
       "            </tr><tr>\n",
       "                <td><strong>Functional</strong></td><td>True</td>\n",
       "            </tr><tr>\n",
       "                <td><strong>In 0 reaction(s)</strong></td><td>\n",
       "                    \n",
       "                    </td>\n",
       "            </tr>\n",
       "        </table>"
      ],
      "text/plain": [
       "<Gene ATCC_700927 at 0x28628c220>"
      ]
     },
     "execution_count": 41,
     "metadata": {},
     "output_type": "execute_result"
    }
   ],
   "source": [
    "gene_add = cobra.core.Gene(id='ATCC_700927',name='ATCC_700927',functional=True)\n",
    "gene_add"
   ]
  },
  {
   "cell_type": "markdown",
   "id": "6c1778f0",
   "metadata": {},
   "source": [
    "Now that we have `gene_add`, we can associate the gene with the transport reaction that we added before."
   ]
  },
  {
   "cell_type": "code",
   "execution_count": 42,
   "id": "5cdbcaca",
   "metadata": {},
   "outputs": [],
   "source": [
    "model_syn.reactions.SUCRt2.gene_reaction_rule = '( ATCC_700927 )'"
   ]
  },
  {
   "cell_type": "markdown",
   "id": "91de4c5a",
   "metadata": {},
   "source": [
    "Now we can check to see if it has been added."
   ]
  },
  {
   "cell_type": "code",
   "execution_count": 47,
   "id": "eee29316",
   "metadata": {},
   "outputs": [
    {
     "data": {
      "text/html": [
       "\n",
       "        <table>\n",
       "            <tr>\n",
       "                <td><strong>Gene identifier</strong></td><td>ATCC_700927</td>\n",
       "            </tr><tr>\n",
       "                <td><strong>Name</strong></td><td></td>\n",
       "            </tr><tr>\n",
       "                <td><strong>Memory address</strong></td>\n",
       "                <td>0x2857eb4c0</td>\n",
       "            </tr><tr>\n",
       "                <td><strong>Functional</strong></td><td>True</td>\n",
       "            </tr><tr>\n",
       "                <td><strong>In 1 reaction(s)</strong></td><td>\n",
       "                    SUCRt2\n",
       "                    </td>\n",
       "            </tr>\n",
       "        </table>"
      ],
      "text/plain": [
       "<Gene ATCC_700927 at 0x2857eb4c0>"
      ]
     },
     "execution_count": 47,
     "metadata": {},
     "output_type": "execute_result"
    }
   ],
   "source": [
    "model_syn.genes.ATCC_700927"
   ]
  },
  {
   "cell_type": "markdown",
   "id": "159e87b0",
   "metadata": {},
   "source": [
    "## Saving the New Model"
   ]
  },
  {
   "cell_type": "markdown",
   "id": "c5f486dc",
   "metadata": {},
   "source": [
    "Now that we have an edited model, we can save our model as new iteration of the model to pass back into our Version Control System (MEMOTE)."
   ]
  },
  {
   "cell_type": "code",
   "execution_count": 49,
   "id": "21131c41",
   "metadata": {},
   "outputs": [],
   "source": [
    "#cobra.io.write_sbml_model(model_syn, 'syn_w_cscB.xml')"
   ]
  }
 ],
 "metadata": {
  "kernelspec": {
   "display_name": "BMI",
   "language": "python",
   "name": "bmi"
  },
  "language_info": {
   "codemirror_mode": {
    "name": "ipython",
    "version": 3
   },
   "file_extension": ".py",
   "mimetype": "text/x-python",
   "name": "python",
   "nbconvert_exporter": "python",
   "pygments_lexer": "ipython3",
   "version": "3.10.6"
  }
 },
 "nbformat": 4,
 "nbformat_minor": 5
}
